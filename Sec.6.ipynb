{
 "cells": [
  {
   "cell_type": "code",
   "execution_count": 154,
   "metadata": {},
   "outputs": [
    {
     "data": {
      "text/plain": [
       "<Figure size 1080x720 with 0 Axes>"
      ]
     },
     "metadata": {},
     "output_type": "display_data"
    }
   ],
   "source": [
    "import numpy as np\n",
    "import matplotlib.pyplot as plt\n",
    "import pandas as pd\n",
    "import seaborn as sns\n",
    "from scipy import stats\n",
    "import scipy\n",
    "import statsmodels.api as sm\n",
    "pd.options.display.precision = 2\n",
    "\n",
    "%matplotlib inline\n",
    "custom_style = {'axes.labelcolor': 'white',\n",
    "                'xtick.color': 'white',\n",
    "                'ytick.color': 'white'}\n",
    "sns.set_style(\"darkgrid\", rc=custom_style)\n",
    "sns.set_context('notebook')\n",
    "plt.style.use('dark_background')\n",
    "plt.figure(figsize=(15,10))\n",
    "sns.set_palette(\"pastel\")"
   ]
  },
  {
   "cell_type": "code",
   "execution_count": 155,
   "metadata": {},
   "outputs": [
    {
     "data": {
      "text/html": [
       "<div>\n",
       "<style scoped>\n",
       "    .dataframe tbody tr th:only-of-type {\n",
       "        vertical-align: middle;\n",
       "    }\n",
       "\n",
       "    .dataframe tbody tr th {\n",
       "        vertical-align: top;\n",
       "    }\n",
       "\n",
       "    .dataframe thead th {\n",
       "        text-align: right;\n",
       "    }\n",
       "</style>\n",
       "<table border=\"1\" class=\"dataframe\">\n",
       "  <thead>\n",
       "    <tr style=\"text-align: right;\">\n",
       "      <th></th>\n",
       "      <th>N</th>\n",
       "      <th>y</th>\n",
       "      <th>x</th>\n",
       "      <th>f</th>\n",
       "    </tr>\n",
       "  </thead>\n",
       "  <tbody>\n",
       "    <tr>\n",
       "      <th>0</th>\n",
       "      <td>8</td>\n",
       "      <td>1</td>\n",
       "      <td>9.76</td>\n",
       "      <td>C</td>\n",
       "    </tr>\n",
       "    <tr>\n",
       "      <th>1</th>\n",
       "      <td>8</td>\n",
       "      <td>6</td>\n",
       "      <td>10.48</td>\n",
       "      <td>C</td>\n",
       "    </tr>\n",
       "    <tr>\n",
       "      <th>2</th>\n",
       "      <td>8</td>\n",
       "      <td>5</td>\n",
       "      <td>10.83</td>\n",
       "      <td>C</td>\n",
       "    </tr>\n",
       "    <tr>\n",
       "      <th>3</th>\n",
       "      <td>8</td>\n",
       "      <td>6</td>\n",
       "      <td>10.94</td>\n",
       "      <td>C</td>\n",
       "    </tr>\n",
       "    <tr>\n",
       "      <th>4</th>\n",
       "      <td>8</td>\n",
       "      <td>1</td>\n",
       "      <td>9.37</td>\n",
       "      <td>C</td>\n",
       "    </tr>\n",
       "  </tbody>\n",
       "</table>\n",
       "</div>"
      ],
      "text/plain": [
       "   N  y      x  f\n",
       "0  8  1   9.76  C\n",
       "1  8  6  10.48  C\n",
       "2  8  5  10.83  C\n",
       "3  8  6  10.94  C\n",
       "4  8  1   9.37  C"
      ]
     },
     "execution_count": 155,
     "metadata": {},
     "output_type": "execute_result"
    }
   ],
   "source": [
    "df = pd.read_csv('./data4a.csv')\n",
    "df.head()"
   ]
  },
  {
   "cell_type": "markdown",
   "metadata": {},
   "source": [
    "## 6.2 例題: 上限のあるカウントデータ"
   ]
  },
  {
   "cell_type": "code",
   "execution_count": 156,
   "metadata": {},
   "outputs": [
    {
     "name": "stderr",
     "output_type": "stream",
     "text": [
      "/Users/yugi/anaconda3/lib/python3.6/site-packages/seaborn/regression.py:546: UserWarning: The `size` paramter has been renamed to `height`; please update your code.\n",
      "  warnings.warn(msg, UserWarning)\n"
     ]
    },
    {
     "data": {
      "text/plain": [
       "<seaborn.axisgrid.FacetGrid at 0x1c23aaab70>"
      ]
     },
     "execution_count": 156,
     "metadata": {},
     "output_type": "execute_result"
    },
    {
     "data": {
      "image/png": "[encoded data removed]",
      "text/plain": [
       "<Figure size 479.6x432 with 1 Axes>"
      ]
     },
     "metadata": {},
     "output_type": "display_data"
    }
   ],
   "source": [
    "sns.lmplot(x='x', y='y', data=df, hue='f', size=6, fit_reg=False)"
   ]
  },
  {
   "cell_type": "code",
   "execution_count": 157,
   "metadata": {},
   "outputs": [
    {
     "data": {
      "text/html": [
       "<div>\n",
       "<style scoped>\n",
       "    .dataframe tbody tr th:only-of-type {\n",
       "        vertical-align: middle;\n",
       "    }\n",
       "\n",
       "    .dataframe tbody tr th {\n",
       "        vertical-align: top;\n",
       "    }\n",
       "\n",
       "    .dataframe thead th {\n",
       "        text-align: right;\n",
       "    }\n",
       "</style>\n",
       "<table border=\"1\" class=\"dataframe\">\n",
       "  <thead>\n",
       "    <tr style=\"text-align: right;\">\n",
       "      <th></th>\n",
       "      <th>N</th>\n",
       "      <th>y</th>\n",
       "      <th>x</th>\n",
       "    </tr>\n",
       "  </thead>\n",
       "  <tbody>\n",
       "    <tr>\n",
       "      <th>count</th>\n",
       "      <td>100.0</td>\n",
       "      <td>100.00</td>\n",
       "      <td>100.00</td>\n",
       "    </tr>\n",
       "    <tr>\n",
       "      <th>mean</th>\n",
       "      <td>8.0</td>\n",
       "      <td>5.08</td>\n",
       "      <td>9.97</td>\n",
       "    </tr>\n",
       "    <tr>\n",
       "      <th>std</th>\n",
       "      <td>0.0</td>\n",
       "      <td>2.74</td>\n",
       "      <td>1.09</td>\n",
       "    </tr>\n",
       "    <tr>\n",
       "      <th>min</th>\n",
       "      <td>8.0</td>\n",
       "      <td>0.00</td>\n",
       "      <td>7.66</td>\n",
       "    </tr>\n",
       "    <tr>\n",
       "      <th>25%</th>\n",
       "      <td>8.0</td>\n",
       "      <td>3.00</td>\n",
       "      <td>9.34</td>\n",
       "    </tr>\n",
       "    <tr>\n",
       "      <th>50%</th>\n",
       "      <td>8.0</td>\n",
       "      <td>6.00</td>\n",
       "      <td>9.96</td>\n",
       "    </tr>\n",
       "    <tr>\n",
       "      <th>75%</th>\n",
       "      <td>8.0</td>\n",
       "      <td>8.00</td>\n",
       "      <td>10.77</td>\n",
       "    </tr>\n",
       "    <tr>\n",
       "      <th>max</th>\n",
       "      <td>8.0</td>\n",
       "      <td>8.00</td>\n",
       "      <td>12.44</td>\n",
       "    </tr>\n",
       "  </tbody>\n",
       "</table>\n",
       "</div>"
      ],
      "text/plain": [
       "           N       y       x\n",
       "count  100.0  100.00  100.00\n",
       "mean     8.0    5.08    9.97\n",
       "std      0.0    2.74    1.09\n",
       "min      8.0    0.00    7.66\n",
       "25%      8.0    3.00    9.34\n",
       "50%      8.0    6.00    9.96\n",
       "75%      8.0    8.00   10.77\n",
       "max      8.0    8.00   12.44"
      ]
     },
     "execution_count": 157,
     "metadata": {},
     "output_type": "execute_result"
    }
   ],
   "source": [
    "df.describe()"
   ]
  },
  {
   "cell_type": "code",
   "execution_count": 158,
   "metadata": {},
   "outputs": [
    {
     "data": {
      "text/plain": [
       "T    50\n",
       "C    50\n",
       "Name: f, dtype: int64"
      ]
     },
     "execution_count": 158,
     "metadata": {},
     "output_type": "execute_result"
    }
   ],
   "source": [
    "df['f'].value_counts()"
   ]
  },
  {
   "cell_type": "code",
   "execution_count": 159,
   "metadata": {},
   "outputs": [],
   "source": [
    "df['f'] = df['f'].map(lambda x: 0 if x=='C' else 1)\n",
    "df['Intercept'] = 1.0\n",
    "df['N-y'] = df['N'] - df['y']"
   ]
  },
  {
   "cell_type": "code",
   "execution_count": 160,
   "metadata": {},
   "outputs": [
    {
     "data": {
      "text/plain": [
       "1    50\n",
       "0    50\n",
       "Name: f, dtype: int64"
      ]
     },
     "execution_count": 160,
     "metadata": {},
     "output_type": "execute_result"
    }
   ],
   "source": [
    "df['f'].value_counts()"
   ]
  },
  {
   "cell_type": "code",
   "execution_count": 161,
   "metadata": {},
   "outputs": [
    {
     "data": {
      "text/html": [
       "<div>\n",
       "<style scoped>\n",
       "    .dataframe tbody tr th:only-of-type {\n",
       "        vertical-align: middle;\n",
       "    }\n",
       "\n",
       "    .dataframe tbody tr th {\n",
       "        vertical-align: top;\n",
       "    }\n",
       "\n",
       "    .dataframe thead th {\n",
       "        text-align: right;\n",
       "    }\n",
       "</style>\n",
       "<table border=\"1\" class=\"dataframe\">\n",
       "  <thead>\n",
       "    <tr style=\"text-align: right;\">\n",
       "      <th></th>\n",
       "      <th>N</th>\n",
       "      <th>y</th>\n",
       "      <th>x</th>\n",
       "      <th>f</th>\n",
       "      <th>Intercept</th>\n",
       "      <th>N-y</th>\n",
       "    </tr>\n",
       "  </thead>\n",
       "  <tbody>\n",
       "    <tr>\n",
       "      <th>0</th>\n",
       "      <td>8</td>\n",
       "      <td>1</td>\n",
       "      <td>9.76</td>\n",
       "      <td>0</td>\n",
       "      <td>1.0</td>\n",
       "      <td>7</td>\n",
       "    </tr>\n",
       "    <tr>\n",
       "      <th>1</th>\n",
       "      <td>8</td>\n",
       "      <td>6</td>\n",
       "      <td>10.48</td>\n",
       "      <td>0</td>\n",
       "      <td>1.0</td>\n",
       "      <td>2</td>\n",
       "    </tr>\n",
       "    <tr>\n",
       "      <th>2</th>\n",
       "      <td>8</td>\n",
       "      <td>5</td>\n",
       "      <td>10.83</td>\n",
       "      <td>0</td>\n",
       "      <td>1.0</td>\n",
       "      <td>3</td>\n",
       "    </tr>\n",
       "    <tr>\n",
       "      <th>3</th>\n",
       "      <td>8</td>\n",
       "      <td>6</td>\n",
       "      <td>10.94</td>\n",
       "      <td>0</td>\n",
       "      <td>1.0</td>\n",
       "      <td>2</td>\n",
       "    </tr>\n",
       "    <tr>\n",
       "      <th>4</th>\n",
       "      <td>8</td>\n",
       "      <td>1</td>\n",
       "      <td>9.37</td>\n",
       "      <td>0</td>\n",
       "      <td>1.0</td>\n",
       "      <td>7</td>\n",
       "    </tr>\n",
       "  </tbody>\n",
       "</table>\n",
       "</div>"
      ],
      "text/plain": [
       "   N  y      x  f  Intercept  N-y\n",
       "0  8  1   9.76  0        1.0    7\n",
       "1  8  6  10.48  0        1.0    2\n",
       "2  8  5  10.83  0        1.0    3\n",
       "3  8  6  10.94  0        1.0    2\n",
       "4  8  1   9.37  0        1.0    7"
      ]
     },
     "execution_count": 161,
     "metadata": {},
     "output_type": "execute_result"
    }
   ],
   "source": [
    "df.head()"
   ]
  },
  {
   "cell_type": "markdown",
   "metadata": {},
   "source": [
    "## 6.4 ロジスティック回帰とロジットリンク関数"
   ]
  },
  {
   "cell_type": "code",
   "execution_count": 162,
   "metadata": {},
   "outputs": [
    {
     "data": {
      "text/plain": [
       "[<matplotlib.lines.Line2D at 0x1c23c24e48>]"
      ]
     },
     "execution_count": 162,
     "metadata": {},
     "output_type": "execute_result"
    },
    {
     "data": {
      "image/png": "[encoded data removed]",
      "text/plain": [
       "<Figure size 432x288 with 1 Axes>"
      ]
     },
     "metadata": {},
     "output_type": "display_data"
    }
   ],
   "source": [
    "z = np.linspace(-6.0, 6.0, 100)\n",
    "q = 1 / (1 + np.exp(-z))\n",
    "plt.plot(z, q)"
   ]
  },
  {
   "cell_type": "code",
   "execution_count": 163,
   "metadata": {},
   "outputs": [],
   "source": [
    "z = lambda b1, b2, x: b1 + b2 * x "
   ]
  },
  {
   "cell_type": "code",
   "execution_count": 164,
   "metadata": {},
   "outputs": [
    {
     "data": {
      "text/plain": [
       "<matplotlib.legend.Legend at 0x1c23ea74e0>"
      ]
     },
     "execution_count": 164,
     "metadata": {},
     "output_type": "execute_result"
    },
    {
     "data": {
      "image/png": "[encoded data removed]",
      "text/plain": [
       "<Figure size 720x360 with 2 Axes>"
      ]
     },
     "metadata": {},
     "output_type": "display_data"
    }
   ],
   "source": [
    "x = np.linspace(-6.0, 6.0, 100)\n",
    "plt.figure(figsize=(10,5))\n",
    "plt.subplot(1, 2, 1)\n",
    "plt.plot(x, 1 / (1 + np.exp(-z(0, 2, x))), label='b1=0, b2=2')\n",
    "plt.plot(x, 1 / (1 + np.exp(-z(2, 2, x))), label='b1=2, b2=2')\n",
    "plt.plot(x, 1 / (1 + np.exp(-z(-3, 2, x))), label='b1=-3, b2=2')\n",
    "plt.xlabel('variance')\n",
    "plt.ylabel('probability')\n",
    "plt.legend()\n",
    "plt.subplot(1, 2, 2)\n",
    "plt.plot(x, 1 / (1 + np.exp(-z(0, -1, x))), label='b1=-1, b2=0')\n",
    "plt.plot(x, 1 / (1 + np.exp(-z(0, 2, x))), label='b1=2, b2=0')\n",
    "plt.plot(x, 1 / (1 + np.exp(-z(0, 4, x))), label='b1=4, b2=0')\n",
    "plt.xlabel('variance')\n",
    "plt.legend()"
   ]
  },
  {
   "cell_type": "code",
   "execution_count": null,
   "metadata": {},
   "outputs": [],
   "source": []
  },
  {
   "cell_type": "code",
   "execution_count": 165,
   "metadata": {},
   "outputs": [
    {
     "data": {
      "text/html": [
       "<table class=\"simpletable\">\n",
       "<caption>Generalized Linear Model Regression Results</caption>\n",
       "<tr>\n",
       "  <th>Dep. Variable:</th>    <td>['y', 'N-y']</td>   <th>  No. Observations:  </th>  <td>   100</td>  \n",
       "</tr>\n",
       "<tr>\n",
       "  <th>Model:</th>                 <td>GLM</td>       <th>  Df Residuals:      </th>  <td>    97</td>  \n",
       "</tr>\n",
       "<tr>\n",
       "  <th>Model Family:</th>       <td>Binomial</td>     <th>  Df Model:          </th>  <td>     2</td>  \n",
       "</tr>\n",
       "<tr>\n",
       "  <th>Link Function:</th>        <td>logit</td>      <th>  Scale:             </th> <td>  1.0000</td> \n",
       "</tr>\n",
       "<tr>\n",
       "  <th>Method:</th>               <td>IRLS</td>       <th>  Log-Likelihood:    </th> <td> -133.11</td> \n",
       "</tr>\n",
       "<tr>\n",
       "  <th>Date:</th>           <td>Thu, 20 Sep 2018</td> <th>  Deviance:          </th> <td>  123.03</td> \n",
       "</tr>\n",
       "<tr>\n",
       "  <th>Time:</th>               <td>22:42:36</td>     <th>  Pearson chi2:      </th>  <td>  109.</td>  \n",
       "</tr>\n",
       "<tr>\n",
       "  <th>No. Iterations:</th>         <td>6</td>        <th>  Covariance Type:   </th> <td>nonrobust</td>\n",
       "</tr>\n",
       "</table>\n",
       "<table class=\"simpletable\">\n",
       "<tr>\n",
       "      <td></td>         <th>coef</th>     <th>std err</th>      <th>z</th>      <th>P>|z|</th>  <th>[0.025</th>    <th>0.975]</th>  \n",
       "</tr>\n",
       "<tr>\n",
       "  <th>Intercept</th> <td>  -19.5361</td> <td>    1.414</td> <td>  -13.818</td> <td> 0.000</td> <td>  -22.307</td> <td>  -16.765</td>\n",
       "</tr>\n",
       "<tr>\n",
       "  <th>x</th>         <td>    1.9524</td> <td>    0.139</td> <td>   14.059</td> <td> 0.000</td> <td>    1.680</td> <td>    2.225</td>\n",
       "</tr>\n",
       "<tr>\n",
       "  <th>f</th>         <td>    2.0215</td> <td>    0.231</td> <td>    8.740</td> <td> 0.000</td> <td>    1.568</td> <td>    2.475</td>\n",
       "</tr>\n",
       "</table>"
      ],
      "text/plain": [
       "<class 'statsmodels.iolib.summary.Summary'>\n",
       "\"\"\"\n",
       "                 Generalized Linear Model Regression Results                  \n",
       "==============================================================================\n",
       "Dep. Variable:           ['y', 'N-y']   No. Observations:                  100\n",
       "Model:                            GLM   Df Residuals:                       97\n",
       "Model Family:                Binomial   Df Model:                            2\n",
       "Link Function:                  logit   Scale:                          1.0000\n",
       "Method:                          IRLS   Log-Likelihood:                -133.11\n",
       "Date:                Thu, 20 Sep 2018   Deviance:                       123.03\n",
       "Time:                        22:42:36   Pearson chi2:                     109.\n",
       "No. Iterations:                     6   Covariance Type:             nonrobust\n",
       "==============================================================================\n",
       "                 coef    std err          z      P>|z|      [0.025      0.975]\n",
       "------------------------------------------------------------------------------\n",
       "Intercept    -19.5361      1.414    -13.818      0.000     -22.307     -16.765\n",
       "x              1.9524      0.139     14.059      0.000       1.680       2.225\n",
       "f              2.0215      0.231      8.740      0.000       1.568       2.475\n",
       "==============================================================================\n",
       "\"\"\""
      ]
     },
     "execution_count": 165,
     "metadata": {},
     "output_type": "execute_result"
    }
   ],
   "source": [
    "# import statsmodels.formula.api as sm\n",
    "glm = sm.GLM(endog=df[['y', 'N-y']], exog=df[['Intercept', 'x', 'f']], family=sm.families.Binomial())\n",
    "fit = glm.fit()\n",
    "fit.summary()"
   ]
  },
  {
   "cell_type": "code",
   "execution_count": 167,
   "metadata": {},
   "outputs": [
    {
     "data": {
      "text/plain": [
       "1.9524063613544063"
      ]
     },
     "execution_count": 167,
     "metadata": {},
     "output_type": "execute_result"
    }
   ],
   "source": [
    "fit.params[1]"
   ]
  },
  {
   "cell_type": "code",
   "execution_count": 179,
   "metadata": {},
   "outputs": [
    {
     "data": {
      "text/plain": [
       "<matplotlib.legend.Legend at 0x1c248fc8d0>"
      ]
     },
     "execution_count": 179,
     "metadata": {},
     "output_type": "execute_result"
    },
    {
     "data": {
      "image/png": "[encoded data removed]",
      "text/plain": [
       "<Figure size 576x360 with 1 Axes>"
      ]
     },
     "metadata": {},
     "output_type": "display_data"
    }
   ],
   "source": [
    "plt.figure(figsize=(8,5))\n",
    "x = np.linspace(7.0, 12.0, 100)\n",
    "z1 = fit.params[0] + fit.params[1] * x + fit.params[2] * 0\n",
    "plt.plot(x, 1 / (1 + np.exp(-z1)) * 8)\n",
    "z1 = fit.params[0] + fit.params[1] * x + fit.params[2] * 1\n",
    "plt.plot(x, 1 / (1 + np.exp(-z1)) * 8)\n",
    "plt.scatter(df.x[df.f == 0], df.y[df.f == 0], label = 'C')\n",
    "plt.scatter(df.x[df.f == 1], df.y[df.f == 1], label = 'T')\n",
    "plt.legend()"
   ]
  },
  {
   "cell_type": "code",
   "execution_count": 209,
   "metadata": {},
   "outputs": [],
   "source": [
    "x = [8.5, 10, 12]\n",
    "y = np.linspace(0,8,9)"
   ]
  },
  {
   "cell_type": "code",
   "execution_count": 215,
   "metadata": {},
   "outputs": [
    {
     "data": {
      "image/png": "[encoded data removed]",
      "text/plain": [
       "<Figure size 432x288 with 1 Axes>"
      ]
     },
     "metadata": {},
     "output_type": "display_data"
    }
   ],
   "source": [
    "from scipy.stats import binom\n",
    "for i in range(len(x)):\n",
    "    z = fit.params[0] + fit.params[1] * x[i] + fit.params[2] * 0\n",
    "    q = 1 / (1 + np.exp(-z))\n",
    "    plt.bar(y, binom.pmf(y, 8, q), alpha=0.8, label = 'x={}'.format(x[i]))\n",
    "    plt.legend()"
   ]
  },
  {
   "cell_type": "code",
   "execution_count": 240,
   "metadata": {},
   "outputs": [],
   "source": [
    "glm, fit, AIC, L, deviance, res_deviance = [], [], [], [], [], []\n",
    "glm.append(sm.GLM(endog=df.loc[:,['y', 'N-y']], exog=df.loc[:,'Intercept'], family=sm.families.Binomial()))\n",
    "glm.append(sm.GLM(endog=df.loc[:,['y', 'N-y']], exog=df.loc[:,['Intercept', 'f']], family=sm.families.Binomial()))\n",
    "glm.append(sm.GLM(endog=df.loc[:,['y', 'N-y']], exog=df.loc[:,['Intercept', 'x']], family=sm.families.Binomial()))\n",
    "glm.append(sm.GLM(endog=df.loc[:,['y', 'N-y']], exog=df.loc[:,['Intercept', 'x', 'f']], family=sm.families.Binomial()))\n",
    "\n",
    "for i in range(len(glm)):\n",
    "    fit.append(glm[i].fit())\n",
    "    AIC.append(fit[i].aic)\n",
    "    L.append(fit[i].llf)\n",
    "    deviance.append(-2 * L[i])\n",
    "    res_deviance.append(fit[i].deviance)\n",
    "\n",
    "#full model\n",
    "\n",
    "dpois = lambda x:scipy.stats.binom.logpmf(x, 8, x/8)\n",
    "L.append(np.sum(dpois(df['y'])))\n",
    "deviance.append(-2 * L[-1])\n",
    "res_deviance.append(0.0)\n",
    "AIC.append( deviance[-1] + 2 * len(df['y']) )"
   ]
  },
  {
   "cell_type": "code",
   "execution_count": 241,
   "metadata": {},
   "outputs": [],
   "source": [
    "multi_glm_df = pd.DataFrame((np.c_[L, deviance, res_deviance, AIC]),\n",
    "                            columns=('L', 'deviance', 'res deviance', 'AIC'),\n",
    "                            index=('一定', 'f', 'x', 'x + f', 'full'))"
   ]
  },
  {
   "cell_type": "code",
   "execution_count": 243,
   "metadata": {},
   "outputs": [
    {
     "data": {
      "text/html": [
       "<div>\n",
       "<style scoped>\n",
       "    .dataframe tbody tr th:only-of-type {\n",
       "        vertical-align: middle;\n",
       "    }\n",
       "\n",
       "    .dataframe tbody tr th {\n",
       "        vertical-align: top;\n",
       "    }\n",
       "\n",
       "    .dataframe thead th {\n",
       "        text-align: right;\n",
       "    }\n",
       "</style>\n",
       "<table border=\"1\" class=\"dataframe\">\n",
       "  <thead>\n",
       "    <tr style=\"text-align: right;\">\n",
       "      <th></th>\n",
       "      <th>L</th>\n",
       "      <th>deviance</th>\n",
       "      <th>res deviance</th>\n",
       "      <th>AIC</th>\n",
       "    </tr>\n",
       "  </thead>\n",
       "  <tbody>\n",
       "    <tr>\n",
       "      <th>一定</th>\n",
       "      <td>-321.2</td>\n",
       "      <td>642.4</td>\n",
       "      <td>499.2</td>\n",
       "      <td>644.4</td>\n",
       "    </tr>\n",
       "    <tr>\n",
       "      <th>f</th>\n",
       "      <td>-316.9</td>\n",
       "      <td>633.8</td>\n",
       "      <td>490.6</td>\n",
       "      <td>637.8</td>\n",
       "    </tr>\n",
       "    <tr>\n",
       "      <th>x</th>\n",
       "      <td>-180.2</td>\n",
       "      <td>360.3</td>\n",
       "      <td>217.2</td>\n",
       "      <td>364.3</td>\n",
       "    </tr>\n",
       "    <tr>\n",
       "      <th>x + f</th>\n",
       "      <td>-133.1</td>\n",
       "      <td>266.2</td>\n",
       "      <td>123.0</td>\n",
       "      <td>272.2</td>\n",
       "    </tr>\n",
       "    <tr>\n",
       "      <th>full</th>\n",
       "      <td>-71.6</td>\n",
       "      <td>143.2</td>\n",
       "      <td>0.0</td>\n",
       "      <td>343.2</td>\n",
       "    </tr>\n",
       "  </tbody>\n",
       "</table>\n",
       "</div>"
      ],
      "text/plain": [
       "           L  deviance  res deviance    AIC\n",
       "一定    -321.2     642.4         499.2  644.4\n",
       "f     -316.9     633.8         490.6  637.8\n",
       "x     -180.2     360.3         217.2  364.3\n",
       "x + f -133.1     266.2         123.0  272.2\n",
       "full   -71.6     143.2           0.0  343.2"
      ]
     },
     "execution_count": 243,
     "metadata": {},
     "output_type": "execute_result"
    }
   ],
   "source": [
    "round(multi_glm_df,1)"
   ]
  },
  {
   "cell_type": "code",
   "execution_count": null,
   "metadata": {},
   "outputs": [],
   "source": []
  }
 ],
 "metadata": {
  "kernelspec": {
   "display_name": "Python 3",
   "language": "python",
   "name": "python3"
  },
  "language_info": {
   "codemirror_mode": {
    "name": "ipython",
    "version": 3
   },
   "file_extension": ".py",
   "mimetype": "text/x-python",
   "name": "python",
   "nbconvert_exporter": "python",
   "pygments_lexer": "ipython3",
   "version": "3.6.6"
  }
 },
 "nbformat": 4,
 "nbformat_minor": 2
}
