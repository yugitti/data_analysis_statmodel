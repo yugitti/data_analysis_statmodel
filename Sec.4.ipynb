{
 "cells": [
  {
   "cell_type": "code",
   "execution_count": 247,
   "metadata": {},
   "outputs": [],
   "source": [
    "import numpy as np\n",
    "import matplotlib.pyplot as plt\n",
    "import pandas as pd\n",
    "import seaborn as sns\n",
    "import pyper as pr\n",
    "from scipy import stats\n",
    "import scipy\n",
    "import statsmodels.api as sm\n",
    "\n",
    "%matplotlib inline\n",
    "custom_style = {'axes.labelcolor': 'white',\n",
    "                'xtick.color': 'white',\n",
    "                'ytick.color': 'white'}\n",
    "sns.set_style(\"darkgrid\", rc=custom_style)\n",
    "sns.set_context('talk')\n",
    "plt.style.use('dark_background')"
   ]
  },
  {
   "cell_type": "code",
   "execution_count": 248,
   "metadata": {},
   "outputs": [],
   "source": [
    "df = pd.read_csv('./data3a.csv')\n",
    "df['Intercept'] = 1.0"
   ]
  },
  {
   "cell_type": "code",
   "execution_count": 249,
   "metadata": {},
   "outputs": [],
   "source": [
    "df2 = df.copy()"
   ]
  },
  {
   "cell_type": "code",
   "execution_count": 250,
   "metadata": {},
   "outputs": [],
   "source": [
    "for i in range(2,7,1):\n",
    "    df2[\"x\" + str(i)] = df2['x']**i\n",
    "df2 = df2.rename(columns={'x': 'x1'})"
   ]
  },
  {
   "cell_type": "code",
   "execution_count": 251,
   "metadata": {},
   "outputs": [
    {
     "data": {
      "text/html": [
       "<table class=\"simpletable\">\n",
       "<caption>Generalized Linear Model Regression Results</caption>\n",
       "<tr>\n",
       "  <th>Dep. Variable:</th>          <td>y</td>        <th>  No. Observations:  </th>  <td>   100</td>  \n",
       "</tr>\n",
       "<tr>\n",
       "  <th>Model:</th>                 <td>GLM</td>       <th>  Df Residuals:      </th>  <td>    98</td>  \n",
       "</tr>\n",
       "<tr>\n",
       "  <th>Model Family:</th>        <td>Poisson</td>     <th>  Df Model:          </th>  <td>     1</td>  \n",
       "</tr>\n",
       "<tr>\n",
       "  <th>Link Function:</th>         <td>log</td>       <th>  Scale:             </th> <td>  1.0000</td> \n",
       "</tr>\n",
       "<tr>\n",
       "  <th>Method:</th>               <td>IRLS</td>       <th>  Log-Likelihood:    </th> <td> -235.39</td> \n",
       "</tr>\n",
       "<tr>\n",
       "  <th>Date:</th>           <td>Mon, 18 Jun 2018</td> <th>  Deviance:          </th> <td>  84.993</td> \n",
       "</tr>\n",
       "<tr>\n",
       "  <th>Time:</th>               <td>20:22:41</td>     <th>  Pearson chi2:      </th>  <td>  83.8</td>  \n",
       "</tr>\n",
       "<tr>\n",
       "  <th>No. Iterations:</th>         <td>4</td>        <th>  Covariance Type:   </th> <td>nonrobust</td>\n",
       "</tr>\n",
       "</table>\n",
       "<table class=\"simpletable\">\n",
       "<tr>\n",
       "      <td></td>         <th>coef</th>     <th>std err</th>      <th>z</th>      <th>P>|z|</th>  <th>[0.025</th>    <th>0.975]</th>  \n",
       "</tr>\n",
       "<tr>\n",
       "  <th>Intercept</th> <td>    1.2917</td> <td>    0.364</td> <td>    3.552</td> <td> 0.000</td> <td>    0.579</td> <td>    2.005</td>\n",
       "</tr>\n",
       "<tr>\n",
       "  <th>x1</th>        <td>    0.0757</td> <td>    0.036</td> <td>    2.125</td> <td> 0.034</td> <td>    0.006</td> <td>    0.145</td>\n",
       "</tr>\n",
       "</table>"
      ],
      "text/plain": [
       "<class 'statsmodels.iolib.summary.Summary'>\n",
       "\"\"\"\n",
       "                 Generalized Linear Model Regression Results                  \n",
       "==============================================================================\n",
       "Dep. Variable:                      y   No. Observations:                  100\n",
       "Model:                            GLM   Df Residuals:                       98\n",
       "Model Family:                 Poisson   Df Model:                            1\n",
       "Link Function:                    log   Scale:                          1.0000\n",
       "Method:                          IRLS   Log-Likelihood:                -235.39\n",
       "Date:                Mon, 18 Jun 2018   Deviance:                       84.993\n",
       "Time:                        20:22:41   Pearson chi2:                     83.8\n",
       "No. Iterations:                     4   Covariance Type:             nonrobust\n",
       "==============================================================================\n",
       "                 coef    std err          z      P>|z|      [0.025      0.975]\n",
       "------------------------------------------------------------------------------\n",
       "Intercept      1.2917      0.364      3.552      0.000       0.579       2.005\n",
       "x1             0.0757      0.036      2.125      0.034       0.006       0.145\n",
       "==============================================================================\n",
       "\"\"\""
      ]
     },
     "execution_count": 251,
     "metadata": {},
     "output_type": "execute_result"
    }
   ],
   "source": [
    "glm = sm.GLM(endog=df['y'], exog=df2[['Intercept', 'x1']], family=sm.families.Poisson())\n",
    "fit1 = glm.fit()\n",
    "fit1.summary()"
   ]
  },
  {
   "cell_type": "code",
   "execution_count": 252,
   "metadata": {},
   "outputs": [
    {
     "data": {
      "text/html": [
       "<table class=\"simpletable\">\n",
       "<caption>Generalized Linear Model Regression Results</caption>\n",
       "<tr>\n",
       "  <th>Dep. Variable:</th>          <td>y</td>        <th>  No. Observations:  </th>  <td>   100</td>  \n",
       "</tr>\n",
       "<tr>\n",
       "  <th>Model:</th>                 <td>GLM</td>       <th>  Df Residuals:      </th>  <td>    93</td>  \n",
       "</tr>\n",
       "<tr>\n",
       "  <th>Model Family:</th>        <td>Poisson</td>     <th>  Df Model:          </th>  <td>     6</td>  \n",
       "</tr>\n",
       "<tr>\n",
       "  <th>Link Function:</th>         <td>log</td>       <th>  Scale:             </th> <td>  1.0000</td> \n",
       "</tr>\n",
       "<tr>\n",
       "  <th>Method:</th>               <td>IRLS</td>       <th>  Log-Likelihood:    </th> <td> -232.58</td> \n",
       "</tr>\n",
       "<tr>\n",
       "  <th>Date:</th>           <td>Mon, 18 Jun 2018</td> <th>  Deviance:          </th> <td>  79.385</td> \n",
       "</tr>\n",
       "<tr>\n",
       "  <th>Time:</th>               <td>20:22:41</td>     <th>  Pearson chi2:      </th>  <td>  76.7</td>  \n",
       "</tr>\n",
       "<tr>\n",
       "  <th>No. Iterations:</th>         <td>4</td>        <th>  Covariance Type:   </th> <td>nonrobust</td>\n",
       "</tr>\n",
       "</table>\n",
       "<table class=\"simpletable\">\n",
       "<tr>\n",
       "      <td></td>         <th>coef</th>     <th>std err</th>      <th>z</th>      <th>P>|z|</th>  <th>[0.025</th>    <th>0.975]</th>  \n",
       "</tr>\n",
       "<tr>\n",
       "  <th>Intercept</th> <td> 8185.6246</td> <td> 7764.781</td> <td>    1.054</td> <td> 0.292</td> <td>-7033.067</td> <td> 2.34e+04</td>\n",
       "</tr>\n",
       "<tr>\n",
       "  <th>x1</th>        <td>-4980.3818</td> <td> 4833.712</td> <td>   -1.030</td> <td> 0.303</td> <td>-1.45e+04</td> <td> 4493.521</td>\n",
       "</tr>\n",
       "<tr>\n",
       "  <th>x2</th>        <td> 1251.8054</td> <td> 1245.519</td> <td>    1.005</td> <td> 0.315</td> <td>-1189.367</td> <td> 3692.978</td>\n",
       "</tr>\n",
       "<tr>\n",
       "  <th>x3</th>        <td> -166.4112</td> <td>  170.083</td> <td>   -0.978</td> <td> 0.328</td> <td> -499.767</td> <td>  166.945</td>\n",
       "</tr>\n",
       "<tr>\n",
       "  <th>x4</th>        <td>   12.3450</td> <td>   12.985</td> <td>    0.951</td> <td> 0.342</td> <td>  -13.105</td> <td>   37.795</td>\n",
       "</tr>\n",
       "<tr>\n",
       "  <th>x5</th>        <td>   -0.4847</td> <td>    0.526</td> <td>   -0.922</td> <td> 0.356</td> <td>   -1.515</td> <td>    0.545</td>\n",
       "</tr>\n",
       "<tr>\n",
       "  <th>x6</th>        <td>    0.0079</td> <td>    0.009</td> <td>    0.893</td> <td> 0.372</td> <td>   -0.009</td> <td>    0.025</td>\n",
       "</tr>\n",
       "</table>"
      ],
      "text/plain": [
       "<class 'statsmodels.iolib.summary.Summary'>\n",
       "\"\"\"\n",
       "                 Generalized Linear Model Regression Results                  \n",
       "==============================================================================\n",
       "Dep. Variable:                      y   No. Observations:                  100\n",
       "Model:                            GLM   Df Residuals:                       93\n",
       "Model Family:                 Poisson   Df Model:                            6\n",
       "Link Function:                    log   Scale:                          1.0000\n",
       "Method:                          IRLS   Log-Likelihood:                -232.58\n",
       "Date:                Mon, 18 Jun 2018   Deviance:                       79.385\n",
       "Time:                        20:22:41   Pearson chi2:                     76.7\n",
       "No. Iterations:                     4   Covariance Type:             nonrobust\n",
       "==============================================================================\n",
       "                 coef    std err          z      P>|z|      [0.025      0.975]\n",
       "------------------------------------------------------------------------------\n",
       "Intercept   8185.6246   7764.781      1.054      0.292   -7033.067    2.34e+04\n",
       "x1         -4980.3818   4833.712     -1.030      0.303   -1.45e+04    4493.521\n",
       "x2          1251.8054   1245.519      1.005      0.315   -1189.367    3692.978\n",
       "x3          -166.4112    170.083     -0.978      0.328    -499.767     166.945\n",
       "x4            12.3450     12.985      0.951      0.342     -13.105      37.795\n",
       "x5            -0.4847      0.526     -0.922      0.356      -1.515       0.545\n",
       "x6             0.0079      0.009      0.893      0.372      -0.009       0.025\n",
       "==============================================================================\n",
       "\"\"\""
      ]
     },
     "execution_count": 252,
     "metadata": {},
     "output_type": "execute_result"
    }
   ],
   "source": [
    "glm = sm.GLM(endog=df['y'], exog=df2[['Intercept', 'x1', 'x2', 'x3', 'x4', 'x5', 'x6']], family=sm.families.Poisson())\n",
    "fit6 = glm.fit()\n",
    "fit6.summary()"
   ]
  },
  {
   "cell_type": "code",
   "execution_count": 253,
   "metadata": {},
   "outputs": [
    {
     "data": {
      "text/plain": [
       "[<matplotlib.lines.Line2D at 0x3995834d30>]"
      ]
     },
     "execution_count": 253,
     "metadata": {},
     "output_type": "execute_result"
    },
    {
     "data": {
      "image/png": "[encoded data removed]",
      "text/plain": [
       "<Figure size 632.175x576 with 1 Axes>"
      ]
     },
     "metadata": {},
     "output_type": "display_data"
    }
   ],
   "source": [
    "xx = np.arange(min(df['x']), max(df['x']), 0.01)\n",
    "yy = np.exp(fit1.params[0] + fit1.params[1]*xx)\n",
    "sns.lmplot(x='x', y='y', hue='f', data=df, palette='pastel', fit_reg=False, size=8)\n",
    "plt.plot(xx, yy, color = \"yellow\")"
   ]
  },
  {
   "cell_type": "code",
   "execution_count": 254,
   "metadata": {},
   "outputs": [
    {
     "data": {
      "text/plain": [
       "[<matplotlib.lines.Line2D at 0x3993f34a58>]"
      ]
     },
     "execution_count": 254,
     "metadata": {},
     "output_type": "execute_result"
    },
    {
     "data": {
      "image/png": "[encoded data removed]",
      "text/plain": [
       "<Figure size 632.175x576 with 1 Axes>"
      ]
     },
     "metadata": {},
     "output_type": "display_data"
    }
   ],
   "source": [
    "xx = np.arange(min(df['x']), max(df['x']), 0.01)\n",
    "yy1 = np.exp(fit1.params[0] + fit1.params[1]*xx)\n",
    "yy6 = np.exp(fit6.params[0] + fit6.params[1]*xx + fit6.params[2]*(xx**2) + fit6.params[3]*(xx**3) + fit6.params[4]*(xx**4)\n",
    "            + fit6.params[5]*(xx**5) + fit6.params[6]*(xx**6) )\n",
    "\n",
    "sns.lmplot(x='x', y='y', hue='f', data=df, palette='pastel', fit_reg=False, size=8)\n",
    "plt.plot(xx, yy1, color = \"yellow\")\n",
    "plt.plot(xx, yy6, color = \"yellow\")"
   ]
  },
  {
   "cell_type": "markdown",
   "metadata": {},
   "source": [
    "各種逸脱度の計算"
   ]
  },
  {
   "cell_type": "code",
   "execution_count": 255,
   "metadata": {},
   "outputs": [
    {
     "data": {
      "text/html": [
       "<table class=\"simpletable\">\n",
       "<tr>\n",
       "        <td>Model:</td>               <td>GLM</td>            <td>AIC:</td>       <td>474.7725</td> \n",
       "</tr>\n",
       "<tr>\n",
       "    <td>Link Function:</td>           <td>log</td>            <td>BIC:</td>       <td>-366.3137</td>\n",
       "</tr>\n",
       "<tr>\n",
       "  <td>Dependent Variable:</td>         <td>y</td>        <td>Log-Likelihood:</td>  <td>-235.39</td> \n",
       "</tr>\n",
       "<tr>\n",
       "         <td>Date:</td>        <td>2018-06-18 20:22</td>    <td>LL-Null:</td>      <td>-237.64</td> \n",
       "</tr>\n",
       "<tr>\n",
       "   <td>No. Observations:</td>         <td>100</td>          <td>Deviance:</td>     <td>84.993</td>  \n",
       "</tr>\n",
       "<tr>\n",
       "       <td>Df Model:</td>              <td>1</td>         <td>Pearson chi2:</td>    <td>83.8</td>   \n",
       "</tr>\n",
       "<tr>\n",
       "     <td>Df Residuals:</td>           <td>98</td>            <td>Scale:</td>       <td>1.0000</td>  \n",
       "</tr>\n",
       "<tr>\n",
       "        <td>Method:</td>             <td>IRLS</td>              <td></td>             <td></td>     \n",
       "</tr>\n",
       "</table>\n",
       "<table class=\"simpletable\">\n",
       "<tr>\n",
       "      <td></td>       <th>Coef.</th> <th>Std.Err.</th>    <th>z</th>    <th>P>|z|</th> <th>[0.025</th> <th>0.975]</th>\n",
       "</tr>\n",
       "<tr>\n",
       "  <th>Intercept</th> <td>1.2917</td>  <td>0.3637</td>  <td>3.5517</td> <td>0.0004</td> <td>0.5789</td> <td>2.0045</td>\n",
       "</tr>\n",
       "<tr>\n",
       "  <th>x1</th>        <td>0.0757</td>  <td>0.0356</td>  <td>2.1251</td> <td>0.0336</td> <td>0.0059</td> <td>0.1454</td>\n",
       "</tr>\n",
       "</table>"
      ],
      "text/plain": [
       "<class 'statsmodels.iolib.summary2.Summary'>\n",
       "\"\"\"\n",
       "              Results: Generalized linear model\n",
       "==============================================================\n",
       "Model:              GLM              AIC:            474.7725 \n",
       "Link Function:      log              BIC:            -366.3137\n",
       "Dependent Variable: y                Log-Likelihood: -235.39  \n",
       "Date:               2018-06-18 20:22 LL-Null:        -237.64  \n",
       "No. Observations:   100              Deviance:       84.993   \n",
       "Df Model:           1                Pearson chi2:   83.8     \n",
       "Df Residuals:       98               Scale:          1.0000   \n",
       "Method:             IRLS                                      \n",
       "---------------------------------------------------------------\n",
       "               Coef.   Std.Err.    z     P>|z|   [0.025  0.975]\n",
       "---------------------------------------------------------------\n",
       "Intercept      1.2917    0.3637  3.5517  0.0004  0.5789  2.0045\n",
       "x1             0.0757    0.0356  2.1251  0.0336  0.0059  0.1454\n",
       "==============================================================\n",
       "\n",
       "\"\"\""
      ]
     },
     "execution_count": 255,
     "metadata": {},
     "output_type": "execute_result"
    }
   ],
   "source": [
    "fit1.summary2()"
   ]
  },
  {
   "cell_type": "code",
   "execution_count": 256,
   "metadata": {},
   "outputs": [
    {
     "data": {
      "text/plain": [
       "474.7725015397216"
      ]
     },
     "execution_count": 256,
     "metadata": {},
     "output_type": "execute_result"
    }
   ],
   "source": [
    "fit1.aic"
   ]
  },
  {
   "cell_type": "code",
   "execution_count": 257,
   "metadata": {},
   "outputs": [],
   "source": [
    "df2 = df2.loc[:,['y','f','Intercept', 'x1', 'x2', 'x3', 'x4', 'x5', 'x6']]"
   ]
  },
  {
   "cell_type": "code",
   "execution_count": 258,
   "metadata": {},
   "outputs": [
    {
     "data": {
      "text/html": [
       "<div>\n",
       "<style scoped>\n",
       "    .dataframe tbody tr th:only-of-type {\n",
       "        vertical-align: middle;\n",
       "    }\n",
       "\n",
       "    .dataframe tbody tr th {\n",
       "        vertical-align: top;\n",
       "    }\n",
       "\n",
       "    .dataframe thead th {\n",
       "        text-align: right;\n",
       "    }\n",
       "</style>\n",
       "<table border=\"1\" class=\"dataframe\">\n",
       "  <thead>\n",
       "    <tr style=\"text-align: right;\">\n",
       "      <th></th>\n",
       "      <th>f</th>\n",
       "      <th>Intercept</th>\n",
       "      <th>x1</th>\n",
       "      <th>x2</th>\n",
       "      <th>x3</th>\n",
       "      <th>x4</th>\n",
       "      <th>x5</th>\n",
       "      <th>x6</th>\n",
       "    </tr>\n",
       "  </thead>\n",
       "  <tbody>\n",
       "    <tr>\n",
       "      <th>0</th>\n",
       "      <td>C</td>\n",
       "      <td>1.0</td>\n",
       "      <td>8.31</td>\n",
       "      <td>69.0561</td>\n",
       "      <td>573.856191</td>\n",
       "      <td>4768.744947</td>\n",
       "      <td>39628.270511</td>\n",
       "      <td>3.293109e+05</td>\n",
       "    </tr>\n",
       "    <tr>\n",
       "      <th>1</th>\n",
       "      <td>C</td>\n",
       "      <td>1.0</td>\n",
       "      <td>9.44</td>\n",
       "      <td>89.1136</td>\n",
       "      <td>841.232384</td>\n",
       "      <td>7941.233705</td>\n",
       "      <td>74965.246175</td>\n",
       "      <td>7.076719e+05</td>\n",
       "    </tr>\n",
       "    <tr>\n",
       "      <th>2</th>\n",
       "      <td>C</td>\n",
       "      <td>1.0</td>\n",
       "      <td>9.50</td>\n",
       "      <td>90.2500</td>\n",
       "      <td>857.375000</td>\n",
       "      <td>8145.062500</td>\n",
       "      <td>77378.093750</td>\n",
       "      <td>7.350919e+05</td>\n",
       "    </tr>\n",
       "    <tr>\n",
       "      <th>3</th>\n",
       "      <td>C</td>\n",
       "      <td>1.0</td>\n",
       "      <td>9.07</td>\n",
       "      <td>82.2649</td>\n",
       "      <td>746.142643</td>\n",
       "      <td>6767.513772</td>\n",
       "      <td>61381.349912</td>\n",
       "      <td>5.567288e+05</td>\n",
       "    </tr>\n",
       "    <tr>\n",
       "      <th>4</th>\n",
       "      <td>C</td>\n",
       "      <td>1.0</td>\n",
       "      <td>10.16</td>\n",
       "      <td>103.2256</td>\n",
       "      <td>1048.772096</td>\n",
       "      <td>10655.524495</td>\n",
       "      <td>108260.128873</td>\n",
       "      <td>1.099923e+06</td>\n",
       "    </tr>\n",
       "  </tbody>\n",
       "</table>\n",
       "</div>"
      ],
      "text/plain": [
       "   f  Intercept     x1        x2           x3            x4             x5  \\\n",
       "0  C        1.0   8.31   69.0561   573.856191   4768.744947   39628.270511   \n",
       "1  C        1.0   9.44   89.1136   841.232384   7941.233705   74965.246175   \n",
       "2  C        1.0   9.50   90.2500   857.375000   8145.062500   77378.093750   \n",
       "3  C        1.0   9.07   82.2649   746.142643   6767.513772   61381.349912   \n",
       "4  C        1.0  10.16  103.2256  1048.772096  10655.524495  108260.128873   \n",
       "\n",
       "             x6  \n",
       "0  3.293109e+05  \n",
       "1  7.076719e+05  \n",
       "2  7.350919e+05  \n",
       "3  5.567288e+05  \n",
       "4  1.099923e+06  "
      ]
     },
     "execution_count": 258,
     "metadata": {},
     "output_type": "execute_result"
    }
   ],
   "source": [
    "df2.iloc[:,1:].head()"
   ]
  },
  {
   "cell_type": "code",
   "execution_count": 266,
   "metadata": {},
   "outputs": [],
   "source": [
    "glm, fit, AIC, L, deviance, res_deviance = [], [], [], [], [], []\n",
    "for i in range(7):\n",
    "    glm.append(sm.GLM(endog=df2['y'], exog=df2.iloc[:,2:i+3], family=sm.families.Poisson()))\n",
    "    fit.append(glm[i].fit())\n",
    "    AIC.append(fit[i].aic)\n",
    "    L.append(fit[i].llf)\n",
    "    deviance.append(-2 * L[i])\n",
    "    res_deviance.append(fit[i].deviance)"
   ]
  },
  {
   "cell_type": "code",
   "execution_count": 260,
   "metadata": {},
   "outputs": [],
   "source": [
    "multi_glm_df = pd.DataFrame((np.c_[L, deviance, res_deviance, AIC]), columns=('L', 'deviance', 'res deviance', 'AIC'))"
   ]
  },
  {
   "cell_type": "code",
   "execution_count": 261,
   "metadata": {},
   "outputs": [
    {
     "data": {
      "text/html": [
       "<div>\n",
       "<style scoped>\n",
       "    .dataframe tbody tr th:only-of-type {\n",
       "        vertical-align: middle;\n",
       "    }\n",
       "\n",
       "    .dataframe tbody tr th {\n",
       "        vertical-align: top;\n",
       "    }\n",
       "\n",
       "    .dataframe thead th {\n",
       "        text-align: right;\n",
       "    }\n",
       "</style>\n",
       "<table border=\"1\" class=\"dataframe\">\n",
       "  <thead>\n",
       "    <tr style=\"text-align: right;\">\n",
       "      <th></th>\n",
       "      <th>L</th>\n",
       "      <th>deviance</th>\n",
       "      <th>res deviance</th>\n",
       "      <th>AIC</th>\n",
       "    </tr>\n",
       "  </thead>\n",
       "  <tbody>\n",
       "    <tr>\n",
       "      <th>0</th>\n",
       "      <td>-237.6</td>\n",
       "      <td>475.3</td>\n",
       "      <td>89.5</td>\n",
       "      <td>477.3</td>\n",
       "    </tr>\n",
       "    <tr>\n",
       "      <th>1</th>\n",
       "      <td>-235.4</td>\n",
       "      <td>470.8</td>\n",
       "      <td>85.0</td>\n",
       "      <td>474.8</td>\n",
       "    </tr>\n",
       "    <tr>\n",
       "      <th>2</th>\n",
       "      <td>-234.4</td>\n",
       "      <td>468.8</td>\n",
       "      <td>83.0</td>\n",
       "      <td>474.8</td>\n",
       "    </tr>\n",
       "    <tr>\n",
       "      <th>3</th>\n",
       "      <td>-234.3</td>\n",
       "      <td>468.7</td>\n",
       "      <td>82.9</td>\n",
       "      <td>476.7</td>\n",
       "    </tr>\n",
       "    <tr>\n",
       "      <th>4</th>\n",
       "      <td>-234.2</td>\n",
       "      <td>468.5</td>\n",
       "      <td>82.7</td>\n",
       "      <td>478.5</td>\n",
       "    </tr>\n",
       "    <tr>\n",
       "      <th>5</th>\n",
       "      <td>-233.0</td>\n",
       "      <td>466.0</td>\n",
       "      <td>80.2</td>\n",
       "      <td>478.0</td>\n",
       "    </tr>\n",
       "    <tr>\n",
       "      <th>6</th>\n",
       "      <td>-232.6</td>\n",
       "      <td>465.2</td>\n",
       "      <td>79.4</td>\n",
       "      <td>479.2</td>\n",
       "    </tr>\n",
       "  </tbody>\n",
       "</table>\n",
       "</div>"
      ],
      "text/plain": [
       "       L  deviance  res deviance    AIC\n",
       "0 -237.6     475.3          89.5  477.3\n",
       "1 -235.4     470.8          85.0  474.8\n",
       "2 -234.4     468.8          83.0  474.8\n",
       "3 -234.3     468.7          82.9  476.7\n",
       "4 -234.2     468.5          82.7  478.5\n",
       "5 -233.0     466.0          80.2  478.0\n",
       "6 -232.6     465.2          79.4  479.2"
      ]
     },
     "execution_count": 261,
     "metadata": {},
     "output_type": "execute_result"
    }
   ],
   "source": [
    "round(multi_glm_df,1)"
   ]
  },
  {
   "cell_type": "code",
   "execution_count": 311,
   "metadata": {},
   "outputs": [
    {
     "data": {
      "text/plain": [
       "<matplotlib.legend.Legend at 0x399cbfda20>"
      ]
     },
     "execution_count": 311,
     "metadata": {},
     "output_type": "execute_result"
    },
    {
     "data": {
      "image/png": "[encoded data removed]",
      "text/plain": [
       "<Figure size 632.175x576 with 1 Axes>"
      ]
     },
     "metadata": {},
     "output_type": "display_data"
    }
   ],
   "source": [
    "colors = ['lightcyan', 'deepskyblue', 'lime', 'gold', 'coral', 'lightgray', 'mediumpurple']\n",
    "sns.lmplot(x='x', y='y', hue='f', data=df, palette='pastel', fit_reg=False, size=8)\n",
    "xx = np.arange(min(df['x']), max(df['x']), 0.01)\n",
    "z = np.zeros(xx.shape)\n",
    "for i in range(7):\n",
    "    z = np.zeros(xx.shape)\n",
    "    yy = np.zeros(xx.shape)\n",
    "    for j in range(i+1):\n",
    "        z = z + fit[i].params[j]*(xx**j)\n",
    "    yy = np.exp(z)\n",
    "    plt.plot(xx, yy, color = colors[i], label='order = %s'%i)\n",
    "\n",
    "plt.legend(frameon = True)\n"
   ]
  },
  {
   "cell_type": "code",
   "execution_count": 158,
   "metadata": {},
   "outputs": [],
   "source": [
    "df3 = df.copy()\n",
    "df3 = df3.loc[:,['y','Intercept', 'x', 'f']]\n",
    "df3['f'] = pd.get_dummies(df['f'])['T']"
   ]
  },
  {
   "cell_type": "code",
   "execution_count": 159,
   "metadata": {},
   "outputs": [
    {
     "data": {
      "text/html": [
       "<div>\n",
       "<style scoped>\n",
       "    .dataframe tbody tr th:only-of-type {\n",
       "        vertical-align: middle;\n",
       "    }\n",
       "\n",
       "    .dataframe tbody tr th {\n",
       "        vertical-align: top;\n",
       "    }\n",
       "\n",
       "    .dataframe thead th {\n",
       "        text-align: right;\n",
       "    }\n",
       "</style>\n",
       "<table border=\"1\" class=\"dataframe\">\n",
       "  <thead>\n",
       "    <tr style=\"text-align: right;\">\n",
       "      <th></th>\n",
       "      <th>y</th>\n",
       "      <th>Intercept</th>\n",
       "      <th>x</th>\n",
       "      <th>f</th>\n",
       "    </tr>\n",
       "  </thead>\n",
       "  <tbody>\n",
       "    <tr>\n",
       "      <th>0</th>\n",
       "      <td>6</td>\n",
       "      <td>1.0</td>\n",
       "      <td>8.31</td>\n",
       "      <td>0</td>\n",
       "    </tr>\n",
       "    <tr>\n",
       "      <th>1</th>\n",
       "      <td>6</td>\n",
       "      <td>1.0</td>\n",
       "      <td>9.44</td>\n",
       "      <td>0</td>\n",
       "    </tr>\n",
       "    <tr>\n",
       "      <th>2</th>\n",
       "      <td>6</td>\n",
       "      <td>1.0</td>\n",
       "      <td>9.50</td>\n",
       "      <td>0</td>\n",
       "    </tr>\n",
       "    <tr>\n",
       "      <th>3</th>\n",
       "      <td>12</td>\n",
       "      <td>1.0</td>\n",
       "      <td>9.07</td>\n",
       "      <td>0</td>\n",
       "    </tr>\n",
       "    <tr>\n",
       "      <th>4</th>\n",
       "      <td>10</td>\n",
       "      <td>1.0</td>\n",
       "      <td>10.16</td>\n",
       "      <td>0</td>\n",
       "    </tr>\n",
       "  </tbody>\n",
       "</table>\n",
       "</div>"
      ],
      "text/plain": [
       "    y  Intercept      x  f\n",
       "0   6        1.0   8.31  0\n",
       "1   6        1.0   9.44  0\n",
       "2   6        1.0   9.50  0\n",
       "3  12        1.0   9.07  0\n",
       "4  10        1.0  10.16  0"
      ]
     },
     "execution_count": 159,
     "metadata": {},
     "output_type": "execute_result"
    }
   ],
   "source": [
    "df3.head()"
   ]
  },
  {
   "cell_type": "code",
   "execution_count": 206,
   "metadata": {},
   "outputs": [],
   "source": [
    "glm, fit, AIC, L, deviance, res_deviance = [], [], [], [], [], []\n",
    "glm.append(sm.GLM(endog=df3['y'], exog=df3.loc[:,'Intercept'], family=sm.families.Poisson()))\n",
    "glm.append(sm.GLM(endog=df3['y'], exog=df3.loc[:,['Intercept', 'x']], family=sm.families.Poisson()))\n",
    "glm.append(sm.GLM(endog=df3['y'], exog=df3.loc[:,['Intercept', 'f']], family=sm.families.Poisson()))\n",
    "glm.append(sm.GLM(endog=df3['y'], exog=df3.loc[:,['Intercept', 'x', 'f']], family=sm.families.Poisson()))\n",
    "\n",
    "for i in range(len(glm)):\n",
    "    fit.append(glm[i].fit())\n",
    "    AIC.append(fit[i].aic)\n",
    "    L.append(fit[i].llf)\n",
    "    deviance.append(-2 * L[i])\n",
    "    res_deviance.append(fit[i].deviance)\n",
    "\n",
    "#full model\n",
    "dpois = lambda x:scipy.stats.poisson.logpmf(x, x)\n",
    "L.append(np.sum(dpois(df3['y'])))\n",
    "deviance.append(-2 * L[-1])\n",
    "res_deviance.append(0.0)\n",
    "AIC.append( deviance[-1] + 2 * len(df3['y']) )"
   ]
  },
  {
   "cell_type": "code",
   "execution_count": 207,
   "metadata": {},
   "outputs": [],
   "source": [
    "multi_glm_df = pd.DataFrame((np.c_[L, deviance, res_deviance, AIC]),\n",
    "                            columns=('L', 'deviance', 'res deviance', 'AIC'),\n",
    "                            index=('一定', 'f', 'x', 'x + f', 'full'))"
   ]
  },
  {
   "cell_type": "code",
   "execution_count": 208,
   "metadata": {},
   "outputs": [
    {
     "data": {
      "text/html": [
       "<div>\n",
       "<style scoped>\n",
       "    .dataframe tbody tr th:only-of-type {\n",
       "        vertical-align: middle;\n",
       "    }\n",
       "\n",
       "    .dataframe tbody tr th {\n",
       "        vertical-align: top;\n",
       "    }\n",
       "\n",
       "    .dataframe thead th {\n",
       "        text-align: right;\n",
       "    }\n",
       "</style>\n",
       "<table border=\"1\" class=\"dataframe\">\n",
       "  <thead>\n",
       "    <tr style=\"text-align: right;\">\n",
       "      <th></th>\n",
       "      <th>L</th>\n",
       "      <th>deviance</th>\n",
       "      <th>res deviance</th>\n",
       "      <th>AIC</th>\n",
       "    </tr>\n",
       "  </thead>\n",
       "  <tbody>\n",
       "    <tr>\n",
       "      <th>一定</th>\n",
       "      <td>-237.64</td>\n",
       "      <td>475.29</td>\n",
       "      <td>89.51</td>\n",
       "      <td>477.29</td>\n",
       "    </tr>\n",
       "    <tr>\n",
       "      <th>f</th>\n",
       "      <td>-235.39</td>\n",
       "      <td>470.77</td>\n",
       "      <td>84.99</td>\n",
       "      <td>474.77</td>\n",
       "    </tr>\n",
       "    <tr>\n",
       "      <th>x</th>\n",
       "      <td>-237.63</td>\n",
       "      <td>475.25</td>\n",
       "      <td>89.48</td>\n",
       "      <td>479.25</td>\n",
       "    </tr>\n",
       "    <tr>\n",
       "      <th>x + f</th>\n",
       "      <td>-235.29</td>\n",
       "      <td>470.59</td>\n",
       "      <td>84.81</td>\n",
       "      <td>476.59</td>\n",
       "    </tr>\n",
       "    <tr>\n",
       "      <th>full</th>\n",
       "      <td>-192.89</td>\n",
       "      <td>385.78</td>\n",
       "      <td>0.00</td>\n",
       "      <td>585.78</td>\n",
       "    </tr>\n",
       "  </tbody>\n",
       "</table>\n",
       "</div>"
      ],
      "text/plain": [
       "            L  deviance  res deviance     AIC\n",
       "一定    -237.64    475.29         89.51  477.29\n",
       "f     -235.39    470.77         84.99  474.77\n",
       "x     -237.63    475.25         89.48  479.25\n",
       "x + f -235.29    470.59         84.81  476.59\n",
       "full  -192.89    385.78          0.00  585.78"
      ]
     },
     "execution_count": 208,
     "metadata": {},
     "output_type": "execute_result"
    }
   ],
   "source": [
    "round(multi_glm_df,2)"
   ]
  },
  {
   "cell_type": "code",
   "execution_count": null,
   "metadata": {},
   "outputs": [],
   "source": []
  }
 ],
 "metadata": {
  "kernelspec": {
   "display_name": "Python 3",
   "language": "python",
   "name": "python3"
  },
  "language_info": {
   "codemirror_mode": {
    "name": "ipython",
    "version": 3
   },
   "file_extension": ".py",
   "mimetype": "text/x-python",
   "name": "python",
   "nbconvert_exporter": "python",
   "pygments_lexer": "ipython3",
   "version": "3.6.5"
  }
 },
 "nbformat": 4,
 "nbformat_minor": 2
}
