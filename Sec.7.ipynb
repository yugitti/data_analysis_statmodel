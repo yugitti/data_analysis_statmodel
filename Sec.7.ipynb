{
 "cells": [
  {
   "cell_type": "code",
   "execution_count": 1,
   "metadata": {},
   "outputs": [
    {
     "data": {
      "text/plain": [
       "<Figure size 1080x720 with 0 Axes>"
      ]
     },
     "metadata": {},
     "output_type": "display_data"
    }
   ],
   "source": [
    "import numpy as np\n",
    "import matplotlib.pyplot as plt\n",
    "import pandas as pd\n",
    "import seaborn as sns\n",
    "from scipy import stats\n",
    "import scipy\n",
    "import statsmodels.api as sm\n",
    "pd.options.display.precision = 2\n",
    "\n",
    "%matplotlib inline\n",
    "custom_style = {'axes.labelcolor': 'white',\n",
    "                'xtick.color': 'white',\n",
    "                'ytick.color': 'white'}\n",
    "sns.set_style(\"darkgrid\", rc=custom_style)\n",
    "sns.set_context('notebook')\n",
    "plt.style.use('dark_background')\n",
    "plt.figure(figsize=(15,10))\n",
    "sns.set_palette(\"pastel\")"
   ]
  },
  {
   "cell_type": "code",
   "execution_count": 2,
   "metadata": {},
   "outputs": [],
   "source": [
    "y = np.array([4,3,4,5,5,2,3,1,4,0,1,5,5,6,5,4,4,5,3,4])"
   ]
  },
  {
   "cell_type": "code",
   "execution_count": 4,
   "metadata": {},
   "outputs": [
    {
     "data": {
      "text/plain": [
       "(0, 8)"
      ]
     },
     "execution_count": 4,
     "metadata": {},
     "output_type": "execute_result"
    },
    {
     "data": {
      "image/png": "[encoded data removed]",
      "text/plain": [
       "<Figure size 432x288 with 1 Axes>"
      ]
     },
     "metadata": {
      "needs_background": "dark"
     },
     "output_type": "display_data"
    }
   ],
   "source": [
    "x = np.linspace(0,8,9)\n",
    "plt.hist(y, bins=7, alpha=0.8)\n",
    "plt.plot(x, stats.binom.pmf(x, 8, 0.45) * 24, label = 'binominal',marker='o' )\n",
    "plt.xlim([0,8])"
   ]
  },
  {
   "cell_type": "markdown",
   "metadata": {},
   "source": [
    "$\\sum( y \\log(q) + (N-y)\\log(1-q))$"
   ]
  },
  {
   "cell_type": "code",
   "execution_count": 5,
   "metadata": {},
   "outputs": [],
   "source": [
    "L = lambda y, q, N: sum(y * np.log(q) + (N -y) *  np.log(1-q))"
   ]
  },
  {
   "cell_type": "code",
   "execution_count": 6,
   "metadata": {},
   "outputs": [],
   "source": [
    "step = 100\n",
    "N = 8.0\n",
    "b = 0.01\n",
    "## 初期値\n",
    "q = [0.3]\n",
    "l = [L(y, q[0], N)]\n",
    "for i in range(1,step):\n",
    "    q_buf = np.random.choice([q[i-1]-b, q[i-1]+b], 1)[0]\n",
    "    l_buf = L(y, q_buf, N)\n",
    "    if l_buf > l[i-1]:\n",
    "        q.append(q_buf)\n",
    "        l.append(l_buf)\n",
    "    else:\n",
    "        q.append(q[i-1])\n",
    "        l.append(l[i-1])    "
   ]
  },
  {
   "cell_type": "code",
   "execution_count": 7,
   "metadata": {},
   "outputs": [],
   "source": [
    "def bad_max_L(y, q_ini, step, N, b):\n",
    "    q = [q_ini]\n",
    "    L = lambda y, q, N: sum(y * np.log(q) + (N -y) *  np.log(1-q))\n",
    "    l = [L(y, q[0], N)]\n",
    "    for i in range(1,step):\n",
    "        q_buf = np.random.choice([q[i-1]-b, q[i-1]+b], 1)[0]\n",
    "        l_buf = L(y, q_buf, N)\n",
    "        if l_buf > l[i-1]:\n",
    "            q.append(q_buf)\n",
    "            l.append(l_buf)\n",
    "        else:\n",
    "            q.append(q[i-1])\n",
    "            l.append(l[i-1]) \n",
    "            \n",
    "    return q, l"
   ]
  },
  {
   "cell_type": "code",
   "execution_count": 8,
   "metadata": {},
   "outputs": [],
   "source": [
    "q1, l1 = bad_max_L(y, 0.3, 100, 8, 0.01)\n",
    "q2, l2 = bad_max_L(y, 0.6, 100, 8, 0.01)"
   ]
  },
  {
   "cell_type": "code",
   "execution_count": 9,
   "metadata": {},
   "outputs": [
    {
     "data": {
      "text/plain": [
       "[<matplotlib.lines.Line2D at 0x11a643b00>]"
      ]
     },
     "execution_count": 9,
     "metadata": {},
     "output_type": "execute_result"
    },
    {
     "data": {
      "image/png": "[encoded data removed]",
      "text/plain": [
       "<Figure size 432x288 with 1 Axes>"
      ]
     },
     "metadata": {
      "needs_background": "dark"
     },
     "output_type": "display_data"
    }
   ],
   "source": [
    "plt.plot(q1)\n",
    "plt.plot(q2)"
   ]
  },
  {
   "cell_type": "code",
   "execution_count": null,
   "metadata": {},
   "outputs": [],
   "source": []
  }
 ],
 "metadata": {
  "kernelspec": {
   "display_name": "Python 3",
   "language": "python",
   "name": "python3"
  },
  "language_info": {
   "codemirror_mode": {
    "name": "ipython",
    "version": 3
   },
   "file_extension": ".py",
   "mimetype": "text/x-python",
   "name": "python",
   "nbconvert_exporter": "python",
   "pygments_lexer": "ipython3",
   "version": "3.6.6"
  }
 },
 "nbformat": 4,
 "nbformat_minor": 2
}
