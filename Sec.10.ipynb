{
 "cells": [
  {
   "cell_type": "code",
   "execution_count": 74,
   "metadata": {},
   "outputs": [
    {
     "data": {
      "text/plain": [
       "<Figure size 1080x720 with 0 Axes>"
      ]
     },
     "metadata": {},
     "output_type": "display_data"
    }
   ],
   "source": [
    "import numpy as np\n",
    "import matplotlib.pyplot as plt\n",
    "import pandas as pd\n",
    "import seaborn as sns\n",
    "from scipy import stats\n",
    "import scipy\n",
    "import statsmodels.api as sm\n",
    "import pystan\n",
    "pd.options.display.precision = 2\n",
    "\n",
    "%matplotlib inline\n",
    "custom_style = {'axes.labelcolor': 'white',\n",
    "                'xtick.color': 'white',\n",
    "                'ytick.color': 'white'}\n",
    "sns.set_style(\"darkgrid\", rc=custom_style)\n",
    "sns.set_context('notebook')\n",
    "plt.style.use('dark_background')\n",
    "plt.figure(figsize=(15,10))\n",
    "sns.set_palette(\"pastel\")"
   ]
  },
  {
   "cell_type": "code",
   "execution_count": 58,
   "metadata": {},
   "outputs": [],
   "source": [
    "df = pd.read_csv('./data7a.csv')\n",
    "N = 8\n",
    "df['N-y'] = N - df['y']\n",
    "df['Intercept'] = 1.0"
   ]
  },
  {
   "cell_type": "code",
   "execution_count": 59,
   "metadata": {},
   "outputs": [
    {
     "data": {
      "text/html": [
       "<div>\n",
       "<style scoped>\n",
       "    .dataframe tbody tr th:only-of-type {\n",
       "        vertical-align: middle;\n",
       "    }\n",
       "\n",
       "    .dataframe tbody tr th {\n",
       "        vertical-align: top;\n",
       "    }\n",
       "\n",
       "    .dataframe thead th {\n",
       "        text-align: right;\n",
       "    }\n",
       "</style>\n",
       "<table border=\"1\" class=\"dataframe\">\n",
       "  <thead>\n",
       "    <tr style=\"text-align: right;\">\n",
       "      <th></th>\n",
       "      <th>id</th>\n",
       "      <th>y</th>\n",
       "      <th>N-y</th>\n",
       "      <th>Intercept</th>\n",
       "    </tr>\n",
       "  </thead>\n",
       "  <tbody>\n",
       "    <tr>\n",
       "      <th>0</th>\n",
       "      <td>1</td>\n",
       "      <td>0</td>\n",
       "      <td>8</td>\n",
       "      <td>1.0</td>\n",
       "    </tr>\n",
       "    <tr>\n",
       "      <th>1</th>\n",
       "      <td>2</td>\n",
       "      <td>2</td>\n",
       "      <td>6</td>\n",
       "      <td>1.0</td>\n",
       "    </tr>\n",
       "    <tr>\n",
       "      <th>2</th>\n",
       "      <td>3</td>\n",
       "      <td>7</td>\n",
       "      <td>1</td>\n",
       "      <td>1.0</td>\n",
       "    </tr>\n",
       "    <tr>\n",
       "      <th>3</th>\n",
       "      <td>4</td>\n",
       "      <td>8</td>\n",
       "      <td>0</td>\n",
       "      <td>1.0</td>\n",
       "    </tr>\n",
       "    <tr>\n",
       "      <th>4</th>\n",
       "      <td>5</td>\n",
       "      <td>1</td>\n",
       "      <td>7</td>\n",
       "      <td>1.0</td>\n",
       "    </tr>\n",
       "  </tbody>\n",
       "</table>\n",
       "</div>"
      ],
      "text/plain": [
       "   id  y  N-y  Intercept\n",
       "0   1  0    8        1.0\n",
       "1   2  2    6        1.0\n",
       "2   3  7    1        1.0\n",
       "3   4  8    0        1.0\n",
       "4   5  1    7        1.0"
      ]
     },
     "execution_count": 59,
     "metadata": {},
     "output_type": "execute_result"
    }
   ],
   "source": [
    "df.head()"
   ]
  },
  {
   "cell_type": "code",
   "execution_count": 60,
   "metadata": {},
   "outputs": [
    {
     "data": {
      "text/html": [
       "<table class=\"simpletable\">\n",
       "<caption>Generalized Linear Model Regression Results</caption>\n",
       "<tr>\n",
       "  <th>Dep. Variable:</th>    <td>['y', 'N-y']</td>   <th>  No. Observations:  </th>  <td>   100</td>  \n",
       "</tr>\n",
       "<tr>\n",
       "  <th>Model:</th>                 <td>GLM</td>       <th>  Df Residuals:      </th>  <td>    99</td>  \n",
       "</tr>\n",
       "<tr>\n",
       "  <th>Model Family:</th>       <td>Binomial</td>     <th>  Df Model:          </th>  <td>     0</td>  \n",
       "</tr>\n",
       "<tr>\n",
       "  <th>Link Function:</th>        <td>logit</td>      <th>  Scale:             </th> <td>  1.0000</td> \n",
       "</tr>\n",
       "<tr>\n",
       "  <th>Method:</th>               <td>IRLS</td>       <th>  Log-Likelihood:    </th> <td> -380.97</td> \n",
       "</tr>\n",
       "<tr>\n",
       "  <th>Date:</th>           <td>Sun, 30 Sep 2018</td> <th>  Deviance:          </th> <td>  631.49</td> \n",
       "</tr>\n",
       "<tr>\n",
       "  <th>Time:</th>               <td>20:15:28</td>     <th>  Pearson chi2:      </th>  <td>  491.</td>  \n",
       "</tr>\n",
       "<tr>\n",
       "  <th>No. Iterations:</th>         <td>3</td>        <th>  Covariance Type:   </th> <td>nonrobust</td>\n",
       "</tr>\n",
       "</table>\n",
       "<table class=\"simpletable\">\n",
       "<tr>\n",
       "      <td></td>         <th>coef</th>     <th>std err</th>      <th>z</th>      <th>P>|z|</th>  <th>[0.025</th>    <th>0.975]</th>  \n",
       "</tr>\n",
       "<tr>\n",
       "  <th>Intercept</th> <td>    0.0150</td> <td>    0.071</td> <td>    0.212</td> <td> 0.832</td> <td>   -0.124</td> <td>    0.154</td>\n",
       "</tr>\n",
       "</table>"
      ],
      "text/plain": [
       "<class 'statsmodels.iolib.summary.Summary'>\n",
       "\"\"\"\n",
       "                 Generalized Linear Model Regression Results                  \n",
       "==============================================================================\n",
       "Dep. Variable:           ['y', 'N-y']   No. Observations:                  100\n",
       "Model:                            GLM   Df Residuals:                       99\n",
       "Model Family:                Binomial   Df Model:                            0\n",
       "Link Function:                  logit   Scale:                          1.0000\n",
       "Method:                          IRLS   Log-Likelihood:                -380.97\n",
       "Date:                Sun, 30 Sep 2018   Deviance:                       631.49\n",
       "Time:                        20:15:28   Pearson chi2:                     491.\n",
       "No. Iterations:                     3   Covariance Type:             nonrobust\n",
       "==============================================================================\n",
       "                 coef    std err          z      P>|z|      [0.025      0.975]\n",
       "------------------------------------------------------------------------------\n",
       "Intercept      0.0150      0.071      0.212      0.832      -0.124       0.154\n",
       "==============================================================================\n",
       "\"\"\""
      ]
     },
     "execution_count": 60,
     "metadata": {},
     "output_type": "execute_result"
    }
   ],
   "source": [
    "glm = sm.GLM(endog=df[['y', 'N-y']], exog=df['Intercept'], family=sm.families.Binomial())\n",
    "fit = glm.fit()\n",
    "fit.summary()"
   ]
  },
  {
   "cell_type": "code",
   "execution_count": 66,
   "metadata": {},
   "outputs": [
    {
     "name": "stdout",
     "output_type": "stream",
     "text": [
      "二項分布から算出された生存確率: 0.504\n",
      "二項分布の分散: 2.00\n",
      "観測データの分散: 9.93\n"
     ]
    }
   ],
   "source": [
    "q = 1 / (1 + np.exp(-fit.params[0]))\n",
    "y = stats.binom.rvs(8, q, size=100)\n",
    "print('二項分布から算出された生存確率: {:.3f}'.format(q))\n",
    "print('二項分布の分散: {:.2f}'.format(N * q * (1-q)))\n",
    "print('観測データの分散: {:.2f}'.format(df['y'].var()))"
   ]
  },
  {
   "cell_type": "code",
   "execution_count": 67,
   "metadata": {},
   "outputs": [],
   "source": [
    "y_hist = df['y'].value_counts(sort = False)"
   ]
  },
  {
   "cell_type": "code",
   "execution_count": 68,
   "metadata": {},
   "outputs": [],
   "source": [
    "y_pred = np.bincount(y)\n",
    "x_pred = np.linspace(0,len(np.bincount(y))-1,len(np.bincount(y))).astype(np.int)"
   ]
  },
  {
   "cell_type": "code",
   "execution_count": 69,
   "metadata": {},
   "outputs": [
    {
     "data": {
      "text/plain": [
       "[<matplotlib.lines.Line2D at 0x1c1ef15438>]"
      ]
     },
     "execution_count": 69,
     "metadata": {},
     "output_type": "execute_result"
    },
    {
     "data": {
      "image/png": "[encoded data removed]",
      "text/plain": [
       "<Figure size 720x360 with 1 Axes>"
      ]
     },
     "metadata": {
      "needs_background": "dark"
     },
     "output_type": "display_data"
    }
   ],
   "source": [
    "plt.figure(figsize=(10,5))\n",
    "plt.scatter(y_hist.index, y_hist, color='deepskyblue')\n",
    "plt.plot(x_pred, y_pred, marker = 'o', color='yellowgreen')"
   ]
  },
  {
   "cell_type": "markdown",
   "metadata": {},
   "source": [
    "## まずは二項分布を使ってベイズで推定"
   ]
  },
  {
   "cell_type": "code",
   "execution_count": 100,
   "metadata": {},
   "outputs": [],
   "source": [
    "stan_model = \"\"\"\n",
    "    data{\n",
    "        int<lower=1> N;\n",
    "        int<lower=1> C;\n",
    "        int<lower=0> y[N];\n",
    "    }\n",
    "    \n",
    "    parameters {\n",
    "        real beta;\n",
    "    }\n",
    "    \n",
    "    transformed parameters{\n",
    "        real theta;\n",
    "        theta = 1 / (1 + exp(beta));\n",
    "    }\n",
    "    \n",
    "    model{\n",
    "        theta ~ normal(0, 100);\n",
    "        for(n in 1:N){\n",
    "            y[n] ~ binomial(C, theta);\n",
    "        }\n",
    "    }\n",
    "\"\"\""
   ]
  },
  {
   "cell_type": "code",
   "execution_count": 101,
   "metadata": {},
   "outputs": [
    {
     "name": "stderr",
     "output_type": "stream",
     "text": [
      "INFO:pystan:COMPILING THE C++ CODE FOR MODEL anon_model_3b803bdde6d730ab99a34ba66c31051d NOW.\n"
     ]
    }
   ],
   "source": [
    "sm = pystan.StanModel(model_code = stan_model)"
   ]
  },
  {
   "cell_type": "code",
   "execution_count": 102,
   "metadata": {},
   "outputs": [],
   "source": [
    "stan_data = {\"N\": len(df), \"C\":(df['y'].unique()).max(), \"y\": df[\"y\"]}\n",
    "fit = sm.sampling(data=stan_data, iter=1600, warmup=100, chains=1, seed=123)"
   ]
  },
  {
   "cell_type": "code",
   "execution_count": 103,
   "metadata": {},
   "outputs": [
    {
     "data": {
      "text/plain": [
       "Inference for Stan model: anon_model_3b803bdde6d730ab99a34ba66c31051d.\n",
       "1 chains, each with iter=1600; warmup=100; thin=1; \n",
       "post-warmup draws per chain=1500, total post-warmup draws=1500.\n",
       "\n",
       "        mean se_mean     sd   2.5%    25%    50%    75%  97.5%  n_eff   Rhat\n",
       "beta   -0.02  2.9e-3   0.07  -0.15  -0.07  -0.02   0.03   0.12    593    1.0\n",
       "theta    0.5  7.2e-4   0.02   0.47   0.49    0.5   0.52   0.54    593    1.0\n",
       "lp__  -554.9    0.02   0.68 -557.0 -555.1 -554.7 -554.5 -554.5    997    1.0\n",
       "\n",
       "Samples were drawn using NUTS at Sun Sep 30 20:49:08 2018.\n",
       "For each parameter, n_eff is a crude measure of effective sample size,\n",
       "and Rhat is the potential scale reduction factor on split chains (at \n",
       "convergence, Rhat=1)."
      ]
     },
     "execution_count": 103,
     "metadata": {},
     "output_type": "execute_result"
    }
   ],
   "source": [
    "fit"
   ]
  },
  {
   "cell_type": "code",
   "execution_count": 106,
   "metadata": {},
   "outputs": [],
   "source": [
    "beta1 = fit.get_posterior_mean()[0][0]\n",
    "theta = fit.get_posterior_mean()[1][0]"
   ]
  },
  {
   "cell_type": "code",
   "execution_count": 109,
   "metadata": {},
   "outputs": [
    {
     "name": "stdout",
     "output_type": "stream",
     "text": [
      "二項分布から算出された生存確率: 0.504\n",
      "二項分布の分散: 2.00\n",
      "stanから算出された生存確率: 0.504\n",
      "stabの分散: 2.00\n",
      "観測データの分散: 9.93\n"
     ]
    }
   ],
   "source": [
    "print('二項分布から算出された生存確率: {:.3f}'.format(q))\n",
    "print('二項分布の分散: {:.2f}'.format(N * q * (1-q)))\n",
    "print('stanから算出された生存確率: {:.3f}'.format(theta))\n",
    "print('stabの分散: {:.2f}'.format(N * theta * (1-theta)))\n",
    "print('観測データの分散: {:.2f}'.format(df['y'].var()))"
   ]
  },
  {
   "cell_type": "markdown",
   "metadata": {},
   "source": [
    "## 階層ベイズ"
   ]
  },
  {
   "cell_type": "code",
   "execution_count": 131,
   "metadata": {},
   "outputs": [],
   "source": [
    "stan_model2 = \"\"\"\n",
    "    data{\n",
    "        int<lower=1> N;\n",
    "        int<lower=1> C;\n",
    "        int<lower=0> y[N];\n",
    "    }\n",
    "    \n",
    "    parameters {\n",
    "        real beta;\n",
    "        real s;\n",
    "        real r[N];\n",
    "    }\n",
    "    \n",
    "    transformed parameters{\n",
    "        real theta[N];\n",
    "        for(n in 1:N){\n",
    "            theta[n] = 1 / (1 + exp(beta + r[n] ));\n",
    "        }\n",
    "    }\n",
    "    \n",
    "    model{\n",
    "        theta ~ normal(0, 100);\n",
    "        s ~ normal(0, 100);\n",
    "        \n",
    "        for(n in 1:N){\n",
    "            r[n] ~ normal(0, s);\n",
    "        }\n",
    "        for(n in 1:N){\n",
    "            y[n] ~ binomial(C, theta[n]);\n",
    "        }\n",
    "    }\n",
    "\"\"\""
   ]
  },
  {
   "cell_type": "code",
   "execution_count": 132,
   "metadata": {},
   "outputs": [
    {
     "name": "stderr",
     "output_type": "stream",
     "text": [
      "INFO:pystan:COMPILING THE C++ CODE FOR MODEL anon_model_756f1e7ff922b8d82269f69a920e403d NOW.\n"
     ]
    }
   ],
   "source": [
    "sm2 = pystan.StanModel(model_code = stan_model2)"
   ]
  },
  {
   "cell_type": "code",
   "execution_count": 133,
   "metadata": {},
   "outputs": [],
   "source": [
    "stan_data2 = {\"N\": len(df), \"C\":(df['y'].unique()).max(), \"y\": df[\"y\"]}\n",
    "fit2 = sm2.sampling(data=stan_data, iter=1600, warmup=100, chains=1, seed=123)"
   ]
  },
  {
   "cell_type": "code",
   "execution_count": 134,
   "metadata": {},
   "outputs": [
    {
     "data": {
      "text/plain": [
       "Inference for Stan model: anon_model_756f1e7ff922b8d82269f69a920e403d.\n",
       "1 chains, each with iter=1600; warmup=100; thin=1; \n",
       "post-warmup draws per chain=1500, total post-warmup draws=1500.\n",
       "\n",
       "            mean se_mean     sd   2.5%    25%    50%    75%  97.5%  n_eff   Rhat\n",
       "beta       -0.07    0.02   0.34  -0.74  -0.29  -0.07   0.16   0.62    407    1.0\n",
       "s           3.03    0.02   0.35   2.43   2.78   3.02   3.25    3.8    484   1.01\n",
       "r[0]        3.74    0.05    1.6   1.17   2.56   3.53   4.75   7.38   1021    1.0\n",
       "r[1]        1.23    0.02   0.91  -0.47   0.59   1.21   1.85    3.1   1500    1.0\n",
       "r[2]       -1.97    0.03   1.17  -4.63  -2.66  -1.88  -1.18   0.04   1500    1.0\n",
       "r[3]       -3.76    0.06   1.77  -8.18  -4.77  -3.55  -2.53  -0.93    866    1.0\n",
       "r[4]        2.14    0.03   1.13   0.12   1.36   2.05   2.82   4.53   1500    1.0\n",
       "r[5]       -1.96    0.03   1.04  -4.32  -2.54  -1.89  -1.28  -0.14   1500    1.0\n",
       "r[6]       -3.78    0.06   1.78  -7.77  -4.86   -3.5  -2.46   -1.1    945    1.0\n",
       "r[7]       -3.68    0.05   1.76   -8.2  -4.63  -3.43   -2.4  -0.97   1033    1.0\n",
       "r[8]        2.09    0.03   1.11   0.16   1.33    2.0   2.77   4.41   1500    1.0\n",
       "r[9]        2.15    0.03   1.11   0.22   1.38   2.07   2.81   4.55   1500    1.0\n",
       "r[10]       0.06    0.02   0.82  -1.49   -0.5   0.06   0.62   1.66   1500    1.0\n",
       "r[11]       3.77    0.05   1.73   1.04   2.53   3.52   4.78   7.71   1074    1.0\n",
       "r[12]       2.11    0.03   1.14    0.2   1.31   1.99   2.81    4.5   1500    1.0\n",
       "r[13]       0.07    0.02   0.75  -1.38  -0.42    0.1   0.56   1.53   1500    1.0\n",
       "r[14]      -2.02    0.03   1.14  -4.58   -2.7  -1.95  -1.22   -0.1   1500    1.0\n",
       "r[15]      -3.81    0.06   1.78   -7.8  -4.87  -3.54   -2.5   -1.1    879   1.01\n",
       "r[16]       -2.0    0.03   1.11  -4.44  -2.66  -1.93  -1.26-6.1e-3   1500    1.0\n",
       "r[17]       3.91    0.05   1.75   1.08   2.65   3.77   4.87   7.87   1219    1.0\n",
       "r[18]       1.22    0.02   0.87  -0.38   0.61   1.18   1.76   3.18   1500    1.0\n",
       "r[19]       1.25    0.02   0.92  -0.39   0.63   1.18   1.82   3.21   1500    1.0\n",
       "r[20]       2.06    0.03   1.08   0.17   1.35   1.94    2.7   4.53   1500    1.0\n",
       "r[21]       2.09    0.03   1.13    0.1   1.29   1.99   2.73   4.54   1500    1.0\n",
       "r[22]      -0.48    0.02   0.82  -2.26  -0.99  -0.47   0.07   1.15   1500    1.0\n",
       "r[23]       -2.0    0.03   1.19  -4.78  -2.69  -1.89  -1.17  -0.03   1500    1.0\n",
       "r[24]      -3.74    0.05   1.77  -8.08  -4.74  -3.43  -2.47  -1.03   1097    1.0\n",
       "r[25]       0.59    0.02   0.83   -1.0   0.03   0.59   1.16   2.22   1500    1.0\n",
       "r[26]      -3.81    0.05   1.77  -7.94  -4.86  -3.56  -2.55  -0.93   1051    1.0\n",
       "r[27]       0.07    0.02   0.77  -1.49  -0.43   0.08   0.56   1.57   1500    1.0\n",
       "r[28]      -1.08    0.02   0.91  -3.04  -1.64  -1.02  -0.43   0.53   1500    1.0\n",
       "r[29]       3.91    0.06   1.74   1.12   2.72   3.64   4.89   7.93    982    1.0\n",
       "r[30]      -3.79    0.06   1.83  -8.05  -4.82  -3.59  -2.48  -0.81    938    1.0\n",
       "r[31]       -2.0    0.03   1.18   -4.8  -2.64   -1.9  -1.22   0.03   1500    1.0\n",
       "r[32]      -3.72    0.05   1.73  -7.52  -4.75  -3.53  -2.45  -1.02   1089    1.0\n",
       "r[33]       4.05    0.06   1.86    1.1   2.71   3.78   5.19   8.61    840    1.0\n",
       "r[34]       1.24    0.02   0.92  -0.42   0.59   1.24   1.82   3.08   1500    1.0\n",
       "r[35]       -1.1    0.02   0.88  -2.94  -1.67  -1.04  -0.49   0.42   1500    1.0\n",
       "r[36]      -1.96    0.03   1.07  -4.15  -2.62  -1.91  -1.21  -0.06   1500    1.0\n",
       "r[37]      -3.76    0.06   1.73   -7.6  -4.84  -3.53  -2.47  -0.91    926   1.01\n",
       "r[38]       1.24    0.02   0.92  -0.48   0.63   1.19   1.83   3.03   1500    1.0\n",
       "r[39]       2.11    0.03   1.13   0.13   1.32   2.03   2.75   4.66   1500    1.0\n",
       "r[40]       2.09    0.03   1.06   0.24   1.33   1.97   2.72   4.47   1500    1.0\n",
       "r[41]       3.83    0.05   1.73   1.11    2.6   3.62   4.82   7.89    998    1.0\n",
       "r[42]       3.92    0.07   1.86   1.19   2.63   3.63   4.87   8.36    639   1.01\n",
       "r[43]      -1.93    0.03    1.1  -4.38  -2.59  -1.81  -1.18  -0.09   1500    1.0\n",
       "r[44]      -3.88    0.06    1.8  -8.04  -4.97  -3.62  -2.58  -1.05    871    1.0\n",
       "r[45]      -0.47    0.02   0.81  -2.12  -1.03  -0.45   0.09   1.11   1500    1.0\n",
       "r[46]      -1.96    0.03   1.12  -4.57  -2.64  -1.84  -1.19  -0.02   1500    1.0\n",
       "r[47]       1.23    0.02   0.89   -0.4   0.59   1.19   1.79   3.04   1500    1.0\n",
       "r[48]      -3.78    0.05    1.7   -7.4  -4.81  -3.61  -2.53   -1.0   1043    1.0\n",
       "r[49]       2.09    0.03   1.13   0.16   1.33   1.95   2.78   4.58   1500    1.0\n",
       "r[50]      -0.48    0.02    0.8   -2.0  -0.99  -0.48   0.06   1.06   1500    1.0\n",
       "r[51]      -1.98    0.03   1.05  -4.28   -2.6  -1.91  -1.27  -0.15   1500    1.0\n",
       "r[52]       0.63    0.02   0.87  -0.96   0.04   0.58   1.21   2.41   1500    1.0\n",
       "r[53]      -3.81    0.06    1.7  -7.68   -4.8  -3.62  -2.58  -1.09    933    1.0\n",
       "r[54]       3.77    0.07   1.69   1.08   2.58   3.56   4.77   7.43    660    1.0\n",
       "r[55]      -3.83    0.07   1.82  -8.23  -4.81  -3.51  -2.52  -1.07    738    1.0\n",
       "r[56]       -1.1    0.02   0.91   -3.0  -1.65  -1.05  -0.48   0.55   1500    1.0\n",
       "r[57]       0.62    0.02   0.86   -1.1   0.05   0.63   1.18   2.27   1500    1.0\n",
       "r[58]       1.23    0.02   0.88   -0.5   0.66   1.21   1.77   3.11   1500    1.0\n",
       "r[59]       3.81    0.06   1.66   1.28   2.65   3.62   4.76   7.73    864    1.0\n",
       "r[60]       3.89    0.06   1.67    1.2   2.73   3.66   4.76   7.58    729   1.01\n",
       "r[61]       2.06    0.03   1.05   0.25   1.35   1.97   2.68   4.51   1500    1.0\n",
       "r[62]       1.26    0.02   0.96  -0.42   0.66   1.22   1.82   3.35   1500    1.0\n",
       "r[63]       -3.7    0.06   1.72  -8.04  -4.67  -3.44  -2.52  -1.04    925    1.0\n",
       "r[64]      -1.95    0.03    1.1  -4.35  -2.61  -1.84  -1.18   -0.1   1500    1.0\n",
       "r[65]      -1.96    0.03   1.06  -4.38   -2.6  -1.89  -1.24  -0.06   1500    1.0\n",
       "r[66]      -1.97    0.03   1.07  -4.38  -2.64   -1.9  -1.19   -0.1   1500    1.0\n",
       "r[67]      -3.88    0.06   1.86   -8.1   -5.0  -3.64  -2.47  -0.99    844    1.0\n",
       "r[68]       3.84    0.06   1.83   0.98   2.53   3.54   4.86    8.2    945    1.0\n",
       "r[69]       3.87    0.05   1.72   1.04   2.69   3.64   4.87   7.89   1110    1.0\n",
       "r[70]       3.95    0.07   1.78   1.13   2.69   3.71   4.95   8.07    578    1.0\n",
       "r[71]      -0.48    0.02   0.82  -2.12  -1.03  -0.43   0.09   1.06   1500    1.0\n",
       "r[72]       2.13    0.03   1.11   0.18   1.34   2.04    2.8   4.66   1500    1.0\n",
       "r[73]       3.89    0.05    1.7   1.14   2.68   3.66    4.9   7.89   1129    1.0\n",
       "r[74]       3.85    0.06   1.74   1.03   2.59   3.63   4.81   7.99    990    1.0\n",
       "r[75]       3.94    0.07   1.87   1.15   2.61    3.7   4.88   8.66    757    1.0\n",
       "r[76]      -3.89    0.07    1.9  -8.49  -4.98  -3.64  -2.54  -0.92    792   1.01\n",
       "r[77]       2.12    0.03   1.13   0.15   1.31    2.1   2.84   4.39   1500    1.0\n",
       "r[78]      -3.78    0.06   1.75  -7.69  -4.72  -3.56  -2.58  -1.03    737    1.0\n",
       "r[79]        0.1    0.02    0.8  -1.46  -0.42    0.1   0.62   1.72   1500    1.0\n",
       "r[80]      -1.96    0.03   1.06  -4.14  -2.65   -1.9  -1.19  -0.08   1500    1.0\n",
       "r[81]       1.25    0.02   0.94  -0.32   0.58   1.18   1.79   3.46   1500    1.0\n",
       "r[82]       2.13    0.03   1.12   0.17   1.32   2.04   2.81   4.58   1500    1.0\n",
       "r[83]       0.09    0.02   0.76  -1.44  -0.39    0.1   0.58    1.6   1500    1.0\n",
       "r[84]      -1.96    0.03   1.12  -4.42  -2.61  -1.83  -1.21  -0.08   1500    1.0\n",
       "r[85]       3.88    0.06   1.74   1.14   2.64   3.61   4.91   7.87    882    1.0\n",
       "r[86]      -3.73    0.06   1.72  -7.74  -4.78  -3.44  -2.51  -1.05    802    1.0\n",
       "r[87]       2.12    0.03   1.12   0.21   1.36   2.02   2.78   4.68   1500    1.0\n",
       "r[88]      -3.79    0.06   1.86  -8.15  -4.86  -3.52  -2.45  -0.93    897    1.0\n",
       "r[89]      -1.97    0.03   1.08  -4.32  -2.64  -1.85  -1.26  -0.12   1500    1.0\n",
       "r[90]       -1.1    0.02    0.9  -2.92  -1.68  -1.04  -0.47   0.54   1500    1.0\n",
       "r[91]       1.22    0.02   0.88  -0.31   0.59   1.15   1.78    3.1   1500    1.0\n",
       "r[92]      -3.78    0.05   1.76  -7.77  -4.73  -3.51  -2.51  -1.01   1035    1.0\n",
       "r[93]       -1.1    0.02   0.89  -2.94  -1.67  -1.03  -0.49   0.47   1500    1.0\n",
       "r[94]      -1.08    0.02   0.87  -2.97   -1.6  -1.01  -0.51   0.56   1500    1.0\n",
       "r[95]       2.11    0.03   1.08   0.26    1.4   2.02   2.72   4.57   1500    1.0\n",
       "r[96]        3.8    0.06   1.67   1.22   2.58   3.57   4.73   7.91    796    1.0\n",
       "r[97]       0.09    0.02    0.8  -1.51  -0.45   0.11   0.63   1.61   1500    1.0\n",
       "r[98]      -1.97    0.03   1.16  -4.55  -2.69  -1.85  -1.18   0.03   1500    1.0\n",
       "r[99]       3.89    0.07   1.83   1.01   2.61   3.58   4.99   8.06    747    1.0\n",
       "theta[0]    0.05  1.7e-3   0.06 5.7e-4 9.4e-3   0.03   0.08   0.25   1500    1.0\n",
       "theta[1]    0.27  3.8e-3   0.15   0.05   0.15   0.25   0.36   0.59   1500    1.0\n",
       "theta[2]    0.84  3.1e-3   0.12   0.52   0.79   0.87   0.93   0.99   1500    1.0\n",
       "theta[3]    0.95  1.8e-3   0.07   0.75   0.93   0.97   0.99    1.0   1500    1.0\n",
       "theta[4]    0.15  3.0e-3   0.12   0.01   0.06   0.12   0.21   0.44   1500    1.0\n",
       "theta[5]    0.85  2.8e-3   0.11   0.58   0.79   0.87   0.93   0.99   1500    1.0\n",
       "theta[6]    0.95  1.7e-3   0.07   0.76   0.93   0.97   0.99    1.0   1500    1.0\n",
       "theta[7]    0.94  1.7e-3   0.07   0.76   0.92   0.97   0.99    1.0   1500    1.0\n",
       "theta[8]    0.16  3.0e-3   0.12   0.01   0.06   0.13   0.22   0.44   1500    1.0\n",
       "theta[9]    0.15  2.9e-3   0.11   0.01   0.06   0.12   0.21   0.45   1500    1.0\n",
       "theta[10]    0.5  4.3e-3   0.17   0.18   0.38   0.51   0.62   0.82   1500    1.0\n",
       "theta[11]   0.06  1.9e-3   0.07 4.1e-4 9.2e-3   0.03   0.08   0.25   1500    1.0\n",
       "theta[12]   0.16  3.1e-3   0.12   0.01   0.06   0.12   0.22   0.44   1500    1.0\n",
       "theta[13]    0.5  4.0e-3   0.16    0.2   0.39   0.49   0.61    0.8   1500    1.0\n",
       "theta[14]   0.85  2.9e-3   0.11   0.57   0.79   0.88   0.94   0.99   1500    1.0\n",
       "theta[15]   0.95  1.7e-3   0.07   0.76   0.93   0.97   0.99    1.0   1500    1.0\n",
       "theta[16]   0.85  3.0e-3   0.12   0.56   0.79   0.88   0.94   0.99   1500    1.0\n",
       "theta[17]   0.05  1.8e-3   0.07 4.2e-4 7.6e-3   0.03   0.07   0.25   1500    1.0\n",
       "theta[18]   0.27  3.6e-3   0.14   0.05   0.16   0.25   0.36   0.58   1500    1.0\n",
       "theta[19]   0.26  3.7e-3   0.14   0.04   0.15   0.24   0.35   0.58   1500    1.0\n",
       "theta[20]   0.16  3.0e-3   0.11   0.01   0.07   0.13   0.22   0.44   1500    1.0\n",
       "theta[21]   0.16  3.1e-3   0.12   0.01   0.07   0.13   0.21   0.47   1500    1.0\n",
       "theta[22]   0.62  4.0e-3   0.16   0.29   0.52   0.63   0.73    0.9   1500    1.0\n",
       "theta[23]   0.85  3.2e-3   0.12   0.52   0.78   0.88   0.94   0.99   1500    1.0\n",
       "theta[24]   0.95  1.7e-3   0.07   0.77   0.93   0.97   0.99    1.0   1500    1.0\n",
       "theta[25]   0.39  4.2e-3   0.16   0.11   0.27   0.37    0.5   0.71   1500    1.0\n",
       "theta[26]   0.95  1.7e-3   0.07   0.74   0.93   0.97   0.99    1.0   1500    1.0\n",
       "theta[27]    0.5  3.9e-3   0.15    0.2   0.39    0.5   0.61    0.8   1500    1.0\n",
       "theta[28]   0.73  3.7e-3   0.14   0.41   0.64   0.75   0.84   0.95   1500    1.0\n",
       "theta[29]   0.05  1.7e-3   0.06 3.2e-4 8.0e-3   0.03   0.07   0.24   1500    1.0\n",
       "theta[30]   0.95  1.9e-3   0.07   0.73   0.93   0.97   0.99    1.0   1500    1.0\n",
       "theta[31]   0.85  3.1e-3   0.12   0.53   0.78   0.87   0.94   0.99   1500    1.0\n",
       "theta[32]   0.95  1.8e-3   0.07   0.74   0.93   0.97   0.99    1.0   1500    1.0\n",
       "theta[33]   0.05  1.8e-3   0.07 2.6e-4 6.2e-3   0.02   0.07   0.26   1500    1.0\n",
       "theta[34]   0.27  3.8e-3   0.15   0.05   0.15   0.24   0.36   0.58   1500    1.0\n",
       "theta[35]   0.74  3.6e-3   0.14   0.42   0.65   0.75   0.85   0.95   1500    1.0\n",
       "theta[36]   0.85  2.9e-3   0.11   0.57   0.78   0.87   0.94   0.99   1500    1.0\n",
       "theta[37]   0.95  1.7e-3   0.07   0.76   0.93   0.97   0.99    1.0   1500    1.0\n",
       "theta[38]   0.27  3.7e-3   0.14   0.06   0.15   0.25   0.35   0.58   1500    1.0\n",
       "theta[39]   0.16  3.1e-3   0.12   0.01   0.06   0.13   0.22   0.46   1500    1.0\n",
       "theta[40]   0.15  2.9e-3   0.11   0.01   0.07   0.13   0.22   0.43   1500    1.0\n",
       "theta[41]   0.05  1.8e-3   0.07 4.1e-4 8.5e-3   0.03   0.08   0.25   1500    1.0\n",
       "theta[42]   0.05  1.7e-3   0.07 2.2e-4 7.6e-3   0.03   0.07   0.25   1500    1.0\n",
       "theta[43]   0.84  2.9e-3   0.11   0.56   0.78   0.87   0.93   0.99   1500    1.0\n",
       "theta[44]   0.95  1.7e-3   0.06   0.76   0.93   0.98   0.99    1.0   1500    1.0\n",
       "theta[45]   0.62  4.1e-3   0.16    0.3    0.5   0.63   0.75   0.89   1500    1.0\n",
       "theta[46]   0.84  3.0e-3   0.12   0.55   0.78   0.87   0.93   0.99   1500    1.0\n",
       "theta[47]   0.27  3.6e-3   0.14   0.05   0.16   0.25   0.35   0.58   1500    1.0\n",
       "theta[48]   0.95  1.7e-3   0.06   0.76   0.93   0.97   0.99    1.0   1500    1.0\n",
       "theta[49]   0.16  3.0e-3   0.12   0.01   0.07   0.13   0.22   0.44   1500    1.0\n",
       "theta[50]   0.62  4.0e-3   0.16    0.3   0.51   0.63   0.74   0.89   1500    1.0\n",
       "theta[51]   0.85  2.8e-3   0.11   0.58   0.79   0.88   0.93   0.99   1500    1.0\n",
       "theta[52]   0.38  4.3e-3   0.17    0.1   0.25   0.37    0.5   0.71   1500    1.0\n",
       "theta[53]   0.95  1.7e-3   0.07   0.77   0.93   0.98   0.99    1.0   1500    1.0\n",
       "theta[54]   0.05  1.7e-3   0.07 5.4e-4 9.3e-3   0.03   0.08   0.24   1500    1.0\n",
       "theta[55]   0.95  1.6e-3   0.06   0.76   0.93   0.97   0.99    1.0   1500    1.0\n",
       "theta[56]   0.73  3.7e-3   0.14    0.4   0.64   0.75   0.84   0.95   1500    1.0\n",
       "theta[57]   0.38  4.2e-3   0.16   0.11   0.26   0.37   0.49   0.73   1500    1.0\n",
       "theta[58]   0.27  3.6e-3   0.14   0.05   0.16   0.25   0.35   0.59   1500    1.0\n",
       "theta[59]   0.05  1.6e-3   0.06 4.3e-4 9.3e-3   0.03   0.07   0.23   1500    1.0\n",
       "theta[60]   0.05  1.6e-3   0.06 6.1e-4 8.2e-3   0.03   0.07   0.23   1500    1.0\n",
       "theta[61]   0.15  2.8e-3   0.11   0.01   0.07   0.14   0.21   0.44   1500    1.0\n",
       "theta[62]   0.27  3.8e-3   0.15   0.04   0.16   0.24   0.35    0.6   1500    1.0\n",
       "theta[63]   0.95  1.7e-3   0.07   0.76   0.93   0.97   0.99    1.0   1500    1.0\n",
       "theta[64]   0.85  2.9e-3   0.11   0.57   0.78   0.87   0.93   0.99   1500    1.0\n",
       "theta[65]   0.85  2.9e-3   0.11   0.56    0.8   0.87   0.93   0.99   1500    1.0\n",
       "theta[66]   0.85  2.9e-3   0.11   0.57   0.79   0.88   0.94   0.99   1500    1.0\n",
       "theta[67]   0.95  1.7e-3   0.07   0.74   0.93   0.98   0.99    1.0   1500    1.0\n",
       "theta[68]   0.06  1.9e-3   0.07 2.9e-4 8.2e-3   0.03   0.08   0.27   1500    1.0\n",
       "theta[69]   0.05  1.9e-3   0.07 3.9e-4 8.3e-3   0.03   0.07   0.28   1500    1.0\n",
       "theta[70]   0.05  1.7e-3   0.07 2.8e-4 7.5e-3   0.03   0.07   0.24   1500    1.0\n",
       "theta[71]   0.62  4.0e-3   0.16    0.3   0.51   0.63   0.74   0.88   1500    1.0\n",
       "theta[72]   0.15  2.9e-3   0.11   0.01   0.06   0.13   0.21   0.44   1500    1.0\n",
       "theta[73]   0.05  1.7e-3   0.07 3.7e-4 8.3e-3   0.03   0.07   0.26   1500    1.0\n",
       "theta[74]   0.05  1.8e-3   0.07 3.6e-4 8.3e-3   0.03   0.08   0.27   1500    1.0\n",
       "theta[75]   0.05  1.7e-3   0.07 2.1e-4 8.3e-3   0.03   0.07   0.25   1500    1.0\n",
       "theta[76]   0.95  1.8e-3   0.07   0.74   0.93   0.98   0.99    1.0   1500    1.0\n",
       "theta[77]   0.15  3.1e-3   0.12   0.01   0.06   0.12   0.22   0.44   1500    1.0\n",
       "theta[78]   0.95  1.6e-3   0.06   0.76   0.93   0.97   0.99    1.0   1500    1.0\n",
       "theta[79]   0.49  4.2e-3   0.16   0.19   0.38   0.49   0.61   0.81   1500    1.0\n",
       "theta[80]   0.85  2.9e-3   0.11   0.56   0.79   0.88   0.94   0.99   1500    1.0\n",
       "theta[81]   0.27  3.7e-3   0.14   0.04   0.16   0.25   0.36   0.59   1500    1.0\n",
       "theta[82]   0.15  3.0e-3   0.12   0.01   0.06   0.12   0.22   0.45   1500    1.0\n",
       "theta[83]    0.5  4.0e-3   0.15    0.2   0.39    0.5    0.6    0.8   1500    1.0\n",
       "theta[84]   0.85  3.0e-3   0.12   0.56   0.78   0.87   0.94   0.99   1500    1.0\n",
       "theta[85]   0.05  1.7e-3   0.07 3.8e-4 8.3e-3   0.03   0.07   0.24   1500    1.0\n",
       "theta[86]   0.95  1.7e-3   0.06   0.77   0.93   0.97   0.99    1.0   1500    1.0\n",
       "theta[87]   0.15  3.0e-3   0.11   0.01   0.06   0.13   0.22   0.45   1500    1.0\n",
       "theta[88]   0.95  1.9e-3   0.07   0.75   0.93   0.97   0.99    1.0   1500    1.0\n",
       "theta[89]   0.85  3.0e-3   0.11   0.57   0.79   0.88   0.94   0.99   1500    1.0\n",
       "theta[90]   0.74  3.7e-3   0.14   0.42   0.64   0.75   0.85   0.95   1500    1.0\n",
       "theta[91]   0.27  3.6e-3   0.14   0.05   0.16   0.25   0.36   0.56   1500    1.0\n",
       "theta[92]   0.95  1.7e-3   0.07   0.75   0.93   0.97   0.99    1.0   1500    1.0\n",
       "theta[93]   0.74  3.6e-3   0.14   0.42   0.64   0.75   0.84   0.95   1500    1.0\n",
       "theta[94]   0.73  3.5e-3   0.14   0.43   0.65   0.74   0.84   0.95   1500    1.0\n",
       "theta[95]   0.15  2.9e-3   0.11   0.01   0.07   0.13   0.21   0.43   1500    1.0\n",
       "theta[96]   0.05  1.6e-3   0.06 4.0e-4 9.9e-3   0.03   0.07   0.23   1500    1.0\n",
       "theta[97]   0.49  4.2e-3   0.16   0.19   0.38   0.49   0.61   0.82   1500    1.0\n",
       "theta[98]   0.84  3.1e-3   0.12   0.53   0.78   0.87   0.94   0.99   1500    1.0\n",
       "theta[99]   0.05  1.8e-3   0.07 3.4e-4 7.8e-3   0.03   0.07   0.27   1500    1.0\n",
       "lp__      -444.9    0.59   9.66 -465.0 -451.1 -444.8 -438.2 -426.8    272   1.02\n",
       "\n",
       "Samples were drawn using NUTS at Sun Sep 30 21:37:25 2018.\n",
       "For each parameter, n_eff is a crude measure of effective sample size,\n",
       "and Rhat is the potential scale reduction factor on split chains (at \n",
       "convergence, Rhat=1)."
      ]
     },
     "execution_count": 134,
     "metadata": {},
     "output_type": "execute_result"
    }
   ],
   "source": [
    "fit2"
   ]
  },
  {
   "cell_type": "code",
   "execution_count": 137,
   "metadata": {},
   "outputs": [],
   "source": [
    "beta = fit2.get_posterior_mean()[0][0]\n",
    "s = fit2.get_posterior_mean()[1][0]"
   ]
  },
  {
   "cell_type": "code",
   "execution_count": 138,
   "metadata": {},
   "outputs": [
    {
     "name": "stdout",
     "output_type": "stream",
     "text": [
      "-0.07042243923940447\n",
      "3.034219707319477\n"
     ]
    }
   ],
   "source": [
    "print(beta)\n",
    "print(s)"
   ]
  },
  {
   "cell_type": "code",
   "execution_count": 172,
   "metadata": {},
   "outputs": [],
   "source": [
    "r = stats.norm.rvs(loc=0, scale=s, size=100)\n",
    "q = 1 / (1 + np.exp(beta + r))\n",
    "y_pred = stats.binom.rvs(8, q, size=100)"
   ]
  },
  {
   "cell_type": "code",
   "execution_count": 169,
   "metadata": {},
   "outputs": [],
   "source": [
    "y_pred_count = np.bincount(y_pred)\n",
    "x_pred_count = np.linspace(0,len(y_pred_count)-1,len(y_pred_count)).astype(np.int)"
   ]
  },
  {
   "cell_type": "code",
   "execution_count": 170,
   "metadata": {},
   "outputs": [
    {
     "data": {
      "text/plain": [
       "[<matplotlib.lines.Line2D at 0x1c2136a4e0>]"
      ]
     },
     "execution_count": 170,
     "metadata": {},
     "output_type": "execute_result"
    },
    {
     "data": {
      "image/png": "[encoded data removed]",
      "text/plain": [
       "<Figure size 720x360 with 1 Axes>"
      ]
     },
     "metadata": {},
     "output_type": "display_data"
    }
   ],
   "source": [
    "plt.figure(figsize=(10,5))\n",
    "plt.scatter(y_hist.index, y_hist, color='deepskyblue')\n",
    "plt.plot(x_pred_count, y_pred_count, marker = 'o', color='yellowgreen')"
   ]
  },
  {
   "cell_type": "code",
   "execution_count": null,
   "metadata": {},
   "outputs": [],
   "source": []
  }
 ],
 "metadata": {
  "kernelspec": {
   "display_name": "Python 3",
   "language": "python",
   "name": "python3"
  },
  "language_info": {
   "codemirror_mode": {
    "name": "ipython",
    "version": 3
   },
   "file_extension": ".py",
   "mimetype": "text/x-python",
   "name": "python",
   "nbconvert_exporter": "python",
   "pygments_lexer": "ipython3",
   "version": "3.6.6"
  }
 },
 "nbformat": 4,
 "nbformat_minor": 2
}
